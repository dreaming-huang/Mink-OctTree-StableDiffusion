{
 "cells": [
  {
   "cell_type": "code",
   "execution_count": 1,
   "id": "1c09ffdc-17d1-4e42-bdcf-0db745d2d901",
   "metadata": {},
   "outputs": [
    {
     "data": {
      "text/plain": [
       "'0.1.7'"
      ]
     },
     "execution_count": 1,
     "metadata": {},
     "output_type": "execute_result"
    }
   ],
   "source": [
    "import objaverse\n",
    "objaverse.__version__"
   ]
  },
  {
   "cell_type": "code",
   "execution_count": 2,
   "id": "e0e44ae9-0bc1-4923-816c-0624b618297f",
   "metadata": {},
   "outputs": [],
   "source": [
    "import objaverse.xl as oxl"
   ]
  },
  {
   "cell_type": "code",
   "execution_count": 3,
   "id": "f0fedbd8-27a1-415a-9657-e5aefc66f730",
   "metadata": {},
   "outputs": [
    {
     "data": {
      "text/html": [
       "<div>\n",
       "<style scoped>\n",
       "    .dataframe tbody tr th:only-of-type {\n",
       "        vertical-align: middle;\n",
       "    }\n",
       "\n",
       "    .dataframe tbody tr th {\n",
       "        vertical-align: top;\n",
       "    }\n",
       "\n",
       "    .dataframe thead th {\n",
       "        text-align: right;\n",
       "    }\n",
       "</style>\n",
       "<table border=\"1\" class=\"dataframe\">\n",
       "  <thead>\n",
       "    <tr style=\"text-align: right;\">\n",
       "      <th></th>\n",
       "      <th>fileIdentifier</th>\n",
       "      <th>source</th>\n",
       "      <th>license</th>\n",
       "      <th>fileType</th>\n",
       "      <th>sha256</th>\n",
       "      <th>metadata</th>\n",
       "    </tr>\n",
       "  </thead>\n",
       "  <tbody>\n",
       "    <tr>\n",
       "      <th>0</th>\n",
       "      <td>https://github.com/GameGC/Testovoe-SPB-Git/blo...</td>\n",
       "      <td>github</td>\n",
       "      <td>None</td>\n",
       "      <td>obj</td>\n",
       "      <td>fca3990d6d91e110cb920aa3da1a84e54b4a00cde7ad1e...</td>\n",
       "      <td>{}</td>\n",
       "    </tr>\n",
       "    <tr>\n",
       "      <th>1</th>\n",
       "      <td>https://github.com/9-zzz/RitualRex-GGJ2016/blo...</td>\n",
       "      <td>github</td>\n",
       "      <td>None</td>\n",
       "      <td>blend</td>\n",
       "      <td>09dc2689b8d0510885e19a7b525ee44709849d2601add8...</td>\n",
       "      <td>{}</td>\n",
       "    </tr>\n",
       "    <tr>\n",
       "      <th>2</th>\n",
       "      <td>https://github.com/mattoverby/mesh-data/blob/2...</td>\n",
       "      <td>github</td>\n",
       "      <td>MIT License</td>\n",
       "      <td>obj</td>\n",
       "      <td>f9d17190b54b548c6a3e6feebe7b2951a9b8060c507874...</td>\n",
       "      <td>{}</td>\n",
       "    </tr>\n",
       "    <tr>\n",
       "      <th>3</th>\n",
       "      <td>https://github.com/0010cha/data_origami/blob/0...</td>\n",
       "      <td>github</td>\n",
       "      <td>MIT License</td>\n",
       "      <td>ply</td>\n",
       "      <td>f25184898312af8ed5e77cfe675d2251c9893ac5ccc3a1...</td>\n",
       "      <td>{}</td>\n",
       "    </tr>\n",
       "    <tr>\n",
       "      <th>4</th>\n",
       "      <td>https://github.com/Xrvitd/Point2Skeleton_withC...</td>\n",
       "      <td>github</td>\n",
       "      <td>MIT License</td>\n",
       "      <td>ply</td>\n",
       "      <td>d721e6b1b97a83d1f6700045efcb478a1db4686b0571f6...</td>\n",
       "      <td>{}</td>\n",
       "    </tr>\n",
       "    <tr>\n",
       "      <th>...</th>\n",
       "      <td>...</td>\n",
       "      <td>...</td>\n",
       "      <td>...</td>\n",
       "      <td>...</td>\n",
       "      <td>...</td>\n",
       "      <td>...</td>\n",
       "    </tr>\n",
       "    <tr>\n",
       "      <th>9767006</th>\n",
       "      <td>https://sketchfab.com/3d-models/cc2c9ac5149b40...</td>\n",
       "      <td>sketchfab</td>\n",
       "      <td>Creative Commons - Attribution</td>\n",
       "      <td>glb</td>\n",
       "      <td>76cc3e0343be2452fb7a1d8f6eb295f9067e859f353bb8...</td>\n",
       "      <td>{}</td>\n",
       "    </tr>\n",
       "    <tr>\n",
       "      <th>9767007</th>\n",
       "      <td>https://sketchfab.com/3d-models/48ad63b00c4448...</td>\n",
       "      <td>sketchfab</td>\n",
       "      <td>Creative Commons - Attribution</td>\n",
       "      <td>glb</td>\n",
       "      <td>15524e631cecaf3537bbbd9756a94ffa78b275ce77e683...</td>\n",
       "      <td>{}</td>\n",
       "    </tr>\n",
       "    <tr>\n",
       "      <th>9767008</th>\n",
       "      <td>https://sketchfab.com/3d-models/3f61c303139f4d...</td>\n",
       "      <td>sketchfab</td>\n",
       "      <td>Creative Commons - Attribution</td>\n",
       "      <td>glb</td>\n",
       "      <td>4b4a2c0e5f4bd89b15c9551c7c34c0083774ead2fb6354...</td>\n",
       "      <td>{}</td>\n",
       "    </tr>\n",
       "    <tr>\n",
       "      <th>9767009</th>\n",
       "      <td>https://sketchfab.com/3d-models/bc79ba06d75740...</td>\n",
       "      <td>sketchfab</td>\n",
       "      <td>Creative Commons - Attribution</td>\n",
       "      <td>glb</td>\n",
       "      <td>9e71bc509985344446e075bac884cd1a76c24b09f82217...</td>\n",
       "      <td>{}</td>\n",
       "    </tr>\n",
       "    <tr>\n",
       "      <th>9767010</th>\n",
       "      <td>https://sketchfab.com/3d-models/4d03e14ded2a4d...</td>\n",
       "      <td>sketchfab</td>\n",
       "      <td>Creative Commons - Attribution</td>\n",
       "      <td>glb</td>\n",
       "      <td>a4e94c097ffbad25e18f95a94ea5ed0daa102847e329c8...</td>\n",
       "      <td>{}</td>\n",
       "    </tr>\n",
       "  </tbody>\n",
       "</table>\n",
       "<p>9767011 rows × 6 columns</p>\n",
       "</div>"
      ],
      "text/plain": [
       "                                            fileIdentifier     source  \\\n",
       "0        https://github.com/GameGC/Testovoe-SPB-Git/blo...     github   \n",
       "1        https://github.com/9-zzz/RitualRex-GGJ2016/blo...     github   \n",
       "2        https://github.com/mattoverby/mesh-data/blob/2...     github   \n",
       "3        https://github.com/0010cha/data_origami/blob/0...     github   \n",
       "4        https://github.com/Xrvitd/Point2Skeleton_withC...     github   \n",
       "...                                                    ...        ...   \n",
       "9767006  https://sketchfab.com/3d-models/cc2c9ac5149b40...  sketchfab   \n",
       "9767007  https://sketchfab.com/3d-models/48ad63b00c4448...  sketchfab   \n",
       "9767008  https://sketchfab.com/3d-models/3f61c303139f4d...  sketchfab   \n",
       "9767009  https://sketchfab.com/3d-models/bc79ba06d75740...  sketchfab   \n",
       "9767010  https://sketchfab.com/3d-models/4d03e14ded2a4d...  sketchfab   \n",
       "\n",
       "                                license fileType  \\\n",
       "0                                  None      obj   \n",
       "1                                  None    blend   \n",
       "2                           MIT License      obj   \n",
       "3                           MIT License      ply   \n",
       "4                           MIT License      ply   \n",
       "...                                 ...      ...   \n",
       "9767006  Creative Commons - Attribution      glb   \n",
       "9767007  Creative Commons - Attribution      glb   \n",
       "9767008  Creative Commons - Attribution      glb   \n",
       "9767009  Creative Commons - Attribution      glb   \n",
       "9767010  Creative Commons - Attribution      glb   \n",
       "\n",
       "                                                    sha256 metadata  \n",
       "0        fca3990d6d91e110cb920aa3da1a84e54b4a00cde7ad1e...       {}  \n",
       "1        09dc2689b8d0510885e19a7b525ee44709849d2601add8...       {}  \n",
       "2        f9d17190b54b548c6a3e6feebe7b2951a9b8060c507874...       {}  \n",
       "3        f25184898312af8ed5e77cfe675d2251c9893ac5ccc3a1...       {}  \n",
       "4        d721e6b1b97a83d1f6700045efcb478a1db4686b0571f6...       {}  \n",
       "...                                                    ...      ...  \n",
       "9767006  76cc3e0343be2452fb7a1d8f6eb295f9067e859f353bb8...       {}  \n",
       "9767007  15524e631cecaf3537bbbd9756a94ffa78b275ce77e683...       {}  \n",
       "9767008  4b4a2c0e5f4bd89b15c9551c7c34c0083774ead2fb6354...       {}  \n",
       "9767009  9e71bc509985344446e075bac884cd1a76c24b09f82217...       {}  \n",
       "9767010  a4e94c097ffbad25e18f95a94ea5ed0daa102847e329c8...       {}  \n",
       "\n",
       "[9767011 rows x 6 columns]"
      ]
     },
     "execution_count": 3,
     "metadata": {},
     "output_type": "execute_result"
    }
   ],
   "source": [
    "annotations = oxl.get_annotations(\n",
    "    download_dir=\"objaverse\" # default download directory\n",
    ")\n",
    "annotations"
   ]
  },
  {
   "cell_type": "code",
   "execution_count": 4,
   "id": "60cab070-5ba3-432a-8c5e-40a6fa97a42d",
   "metadata": {},
   "outputs": [
    {
     "data": {
      "text/plain": [
       "source\n",
       "github         5236361\n",
       "thingiverse    3732212\n",
       "sketchfab       796031\n",
       "smithsonian       2407\n",
       "Name: count, dtype: int64"
      ]
     },
     "execution_count": 4,
     "metadata": {},
     "output_type": "execute_result"
    }
   ],
   "source": [
    "annotations[\"source\"].value_counts()"
   ]
  },
  {
   "cell_type": "code",
   "execution_count": 5,
   "id": "dfffbdf5-4607-4afa-aa33-b6321e42d909",
   "metadata": {},
   "outputs": [
    {
     "data": {
      "text/plain": [
       "fileType\n",
       "stl      4317074\n",
       "obj      1620091\n",
       "fbx      1509719\n",
       "glb       985124\n",
       "ply       839343\n",
       "blend     238201\n",
       "gltf      127287\n",
       "dae       123438\n",
       "usdz        5681\n",
       "abc         1053\n",
       "Name: count, dtype: int64"
      ]
     },
     "execution_count": 5,
     "metadata": {},
     "output_type": "execute_result"
    }
   ],
   "source": [
    "annotations[\"fileType\"].value_counts()"
   ]
  },
  {
   "cell_type": "code",
   "execution_count": 6,
   "id": "2c2360a7-cf89-4af7-a1f2-593f42074698",
   "metadata": {},
   "outputs": [
    {
     "data": {
      "text/html": [
       "<div>\n",
       "<style scoped>\n",
       "    .dataframe tbody tr th:only-of-type {\n",
       "        vertical-align: middle;\n",
       "    }\n",
       "\n",
       "    .dataframe tbody tr th {\n",
       "        vertical-align: top;\n",
       "    }\n",
       "\n",
       "    .dataframe thead th {\n",
       "        text-align: right;\n",
       "    }\n",
       "</style>\n",
       "<table border=\"1\" class=\"dataframe\">\n",
       "  <thead>\n",
       "    <tr style=\"text-align: right;\">\n",
       "      <th></th>\n",
       "      <th>fileIdentifier</th>\n",
       "      <th>source</th>\n",
       "      <th>license</th>\n",
       "      <th>fileType</th>\n",
       "      <th>sha256</th>\n",
       "      <th>metadata</th>\n",
       "    </tr>\n",
       "  </thead>\n",
       "  <tbody>\n",
       "    <tr>\n",
       "      <th>3040706</th>\n",
       "      <td>https://github.com/jiaguobing/MyWebGL_CESIUM/b...</td>\n",
       "      <td>github</td>\n",
       "      <td>Apache License 2.0</td>\n",
       "      <td>glb</td>\n",
       "      <td>a3ae79702d5e9ba523b0407ab33da12e11886e75d21661...</td>\n",
       "      <td>{}</td>\n",
       "    </tr>\n",
       "    <tr>\n",
       "      <th>5660479</th>\n",
       "      <td>https://thingiverse.com/thing:2047800/files?fi...</td>\n",
       "      <td>thingiverse</td>\n",
       "      <td>Creative Commons - Attribution</td>\n",
       "      <td>stl</td>\n",
       "      <td>a342f20df6d14692a75dc698dab17d6baff12ef2ac4c8a...</td>\n",
       "      <td>{\"filename\": \"Domino_Game_boxes.stl\"}</td>\n",
       "    </tr>\n",
       "    <tr>\n",
       "      <th>5115512</th>\n",
       "      <td>https://github.com/EricCJoyce/The-Recognitions...</td>\n",
       "      <td>github</td>\n",
       "      <td>MIT License</td>\n",
       "      <td>ply</td>\n",
       "      <td>31e24b38246ed63dcf2553b2a27373d602cc75da1d2412...</td>\n",
       "      <td>{}</td>\n",
       "    </tr>\n",
       "    <tr>\n",
       "      <th>3252794</th>\n",
       "      <td>https://github.com/otomotakeru8/Portfolio/blob...</td>\n",
       "      <td>github</td>\n",
       "      <td>None</td>\n",
       "      <td>fbx</td>\n",
       "      <td>65fdccf54c2f2e6f536bbce51bf9b088a0650309420156...</td>\n",
       "      <td>{}</td>\n",
       "    </tr>\n",
       "    <tr>\n",
       "      <th>706878</th>\n",
       "      <td>https://github.com/Xephoney/2SPIM131-Game-Engi...</td>\n",
       "      <td>github</td>\n",
       "      <td>MIT License</td>\n",
       "      <td>glb</td>\n",
       "      <td>67e549229ed6c7a975f921e09b087008b7c12b613afbb0...</td>\n",
       "      <td>{}</td>\n",
       "    </tr>\n",
       "  </tbody>\n",
       "</table>\n",
       "</div>"
      ],
      "text/plain": [
       "                                            fileIdentifier       source  \\\n",
       "3040706  https://github.com/jiaguobing/MyWebGL_CESIUM/b...       github   \n",
       "5660479  https://thingiverse.com/thing:2047800/files?fi...  thingiverse   \n",
       "5115512  https://github.com/EricCJoyce/The-Recognitions...       github   \n",
       "3252794  https://github.com/otomotakeru8/Portfolio/blob...       github   \n",
       "706878   https://github.com/Xephoney/2SPIM131-Game-Engi...       github   \n",
       "\n",
       "                                license fileType  \\\n",
       "3040706              Apache License 2.0      glb   \n",
       "5660479  Creative Commons - Attribution      stl   \n",
       "5115512                     MIT License      ply   \n",
       "3252794                            None      fbx   \n",
       "706878                      MIT License      glb   \n",
       "\n",
       "                                                    sha256  \\\n",
       "3040706  a3ae79702d5e9ba523b0407ab33da12e11886e75d21661...   \n",
       "5660479  a342f20df6d14692a75dc698dab17d6baff12ef2ac4c8a...   \n",
       "5115512  31e24b38246ed63dcf2553b2a27373d602cc75da1d2412...   \n",
       "3252794  65fdccf54c2f2e6f536bbce51bf9b088a0650309420156...   \n",
       "706878   67e549229ed6c7a975f921e09b087008b7c12b613afbb0...   \n",
       "\n",
       "                                      metadata  \n",
       "3040706                                     {}  \n",
       "5660479  {\"filename\": \"Domino_Game_boxes.stl\"}  \n",
       "5115512                                     {}  \n",
       "3252794                                     {}  \n",
       "706878                                      {}  "
      ]
     },
     "execution_count": 6,
     "metadata": {},
     "output_type": "execute_result"
    }
   ],
   "source": [
    "annotations.sample(5)"
   ]
  },
  {
   "cell_type": "code",
   "execution_count": 7,
   "id": "a444c2c3-492c-4af0-829f-d92882a25fdc",
   "metadata": {},
   "outputs": [
    {
     "name": "stderr",
     "output_type": "stream",
     "text": [
      "\u001b[32m2024-06-04 23:10:55.212\u001b[0m | \u001b[1mINFO    \u001b[0m | \u001b[36mobjaverse.xl.github\u001b[0m:\u001b[36m_get_annotations\u001b[0m:\u001b[36m65\u001b[0m - \u001b[1mDownloading https://huggingface.co/datasets/allenai/objaverse-xl/resolve/main/github/alignment.parquet to objaverse/github/alignment.parquet\u001b[0m\n",
      "\u001b[32m2024-06-04 23:11:31.022\u001b[0m | \u001b[1mINFO    \u001b[0m | \u001b[36mobjaverse.xl.sketchfab\u001b[0m:\u001b[36m_get_annotations\u001b[0m:\u001b[36m52\u001b[0m - \u001b[1mDownloading https://huggingface.co/datasets/allenai/objaverse-xl/resolve/main/sketchfab/alignment.parquet to objaverse/sketchfab/alignment.parquet\u001b[0m\n"
     ]
    },
    {
     "data": {
      "text/html": [
       "<div>\n",
       "<style scoped>\n",
       "    .dataframe tbody tr th:only-of-type {\n",
       "        vertical-align: middle;\n",
       "    }\n",
       "\n",
       "    .dataframe tbody tr th {\n",
       "        vertical-align: top;\n",
       "    }\n",
       "\n",
       "    .dataframe thead th {\n",
       "        text-align: right;\n",
       "    }\n",
       "</style>\n",
       "<table border=\"1\" class=\"dataframe\">\n",
       "  <thead>\n",
       "    <tr style=\"text-align: right;\">\n",
       "      <th></th>\n",
       "      <th>fileIdentifier</th>\n",
       "      <th>source</th>\n",
       "      <th>license</th>\n",
       "      <th>fileType</th>\n",
       "      <th>sha256</th>\n",
       "      <th>metadata</th>\n",
       "    </tr>\n",
       "  </thead>\n",
       "  <tbody>\n",
       "    <tr>\n",
       "      <th>0</th>\n",
       "      <td>https://github.com/iitiansd/AR-Institute-GEO-L...</td>\n",
       "      <td>github</td>\n",
       "      <td>None</td>\n",
       "      <td>gltf</td>\n",
       "      <td>aac5c4f71125f9183b8bbf359691489b7a9ed696b493a8...</td>\n",
       "      <td>{}</td>\n",
       "    </tr>\n",
       "    <tr>\n",
       "      <th>1</th>\n",
       "      <td>https://github.com/Phipson/SyntheticShapeShift...</td>\n",
       "      <td>github</td>\n",
       "      <td>None</td>\n",
       "      <td>fbx</td>\n",
       "      <td>4be8a7f1b5b50ffa78c757e33ce0eb7e6a7f519f6018c6...</td>\n",
       "      <td>{}</td>\n",
       "    </tr>\n",
       "    <tr>\n",
       "      <th>2</th>\n",
       "      <td>https://github.com/megat69/ProjectRebirth/blob...</td>\n",
       "      <td>github</td>\n",
       "      <td>MIT License</td>\n",
       "      <td>obj</td>\n",
       "      <td>38c6785d5cc593e6012d4dcdbb5586736501cf0c06edd6...</td>\n",
       "      <td>{}</td>\n",
       "    </tr>\n",
       "    <tr>\n",
       "      <th>3</th>\n",
       "      <td>https://github.com/cellphone-cmyk/miHoYoTest/b...</td>\n",
       "      <td>github</td>\n",
       "      <td>None</td>\n",
       "      <td>fbx</td>\n",
       "      <td>a7a1957a9bdf9ee223302fb53e7dabf34f02ead84ae1c7...</td>\n",
       "      <td>{}</td>\n",
       "    </tr>\n",
       "    <tr>\n",
       "      <th>4</th>\n",
       "      <td>https://github.com/dededec/TFM_Esada/blob/5d82...</td>\n",
       "      <td>github</td>\n",
       "      <td>None</td>\n",
       "      <td>glb</td>\n",
       "      <td>0859233e43aa22f720b0bcc6f081708c1c391bcb15a44d...</td>\n",
       "      <td>{}</td>\n",
       "    </tr>\n",
       "    <tr>\n",
       "      <th>...</th>\n",
       "      <td>...</td>\n",
       "      <td>...</td>\n",
       "      <td>...</td>\n",
       "      <td>...</td>\n",
       "      <td>...</td>\n",
       "      <td>...</td>\n",
       "    </tr>\n",
       "    <tr>\n",
       "      <th>1083981</th>\n",
       "      <td>https://sketchfab.com/3d-models/c0a4a8dd621744...</td>\n",
       "      <td>sketchfab</td>\n",
       "      <td>Creative Commons - Attribution</td>\n",
       "      <td>glb</td>\n",
       "      <td>20e23e224f4f4cb1243563d9daddfc21a7269c2aff9bfe...</td>\n",
       "      <td>{}</td>\n",
       "    </tr>\n",
       "    <tr>\n",
       "      <th>1083982</th>\n",
       "      <td>https://sketchfab.com/3d-models/4225f6c6cc1344...</td>\n",
       "      <td>sketchfab</td>\n",
       "      <td>Creative Commons - Attribution - Share Alike</td>\n",
       "      <td>glb</td>\n",
       "      <td>eb964e3c1a945b129fb396065858cb0f8cf9889dcbccae...</td>\n",
       "      <td>{}</td>\n",
       "    </tr>\n",
       "    <tr>\n",
       "      <th>1083983</th>\n",
       "      <td>https://sketchfab.com/3d-models/eac150307b6f45...</td>\n",
       "      <td>sketchfab</td>\n",
       "      <td>Creative Commons - Attribution</td>\n",
       "      <td>glb</td>\n",
       "      <td>becba4ce17c75352909e70c71bd48b7c5cd55e7469cbdd...</td>\n",
       "      <td>{}</td>\n",
       "    </tr>\n",
       "    <tr>\n",
       "      <th>1083984</th>\n",
       "      <td>https://sketchfab.com/3d-models/48ad63b00c4448...</td>\n",
       "      <td>sketchfab</td>\n",
       "      <td>Creative Commons - Attribution</td>\n",
       "      <td>glb</td>\n",
       "      <td>15524e631cecaf3537bbbd9756a94ffa78b275ce77e683...</td>\n",
       "      <td>{}</td>\n",
       "    </tr>\n",
       "    <tr>\n",
       "      <th>1083985</th>\n",
       "      <td>https://sketchfab.com/3d-models/3f61c303139f4d...</td>\n",
       "      <td>sketchfab</td>\n",
       "      <td>Creative Commons - Attribution</td>\n",
       "      <td>glb</td>\n",
       "      <td>4b4a2c0e5f4bd89b15c9551c7c34c0083774ead2fb6354...</td>\n",
       "      <td>{}</td>\n",
       "    </tr>\n",
       "  </tbody>\n",
       "</table>\n",
       "<p>1083986 rows × 6 columns</p>\n",
       "</div>"
      ],
      "text/plain": [
       "                                            fileIdentifier     source  \\\n",
       "0        https://github.com/iitiansd/AR-Institute-GEO-L...     github   \n",
       "1        https://github.com/Phipson/SyntheticShapeShift...     github   \n",
       "2        https://github.com/megat69/ProjectRebirth/blob...     github   \n",
       "3        https://github.com/cellphone-cmyk/miHoYoTest/b...     github   \n",
       "4        https://github.com/dededec/TFM_Esada/blob/5d82...     github   \n",
       "...                                                    ...        ...   \n",
       "1083981  https://sketchfab.com/3d-models/c0a4a8dd621744...  sketchfab   \n",
       "1083982  https://sketchfab.com/3d-models/4225f6c6cc1344...  sketchfab   \n",
       "1083983  https://sketchfab.com/3d-models/eac150307b6f45...  sketchfab   \n",
       "1083984  https://sketchfab.com/3d-models/48ad63b00c4448...  sketchfab   \n",
       "1083985  https://sketchfab.com/3d-models/3f61c303139f4d...  sketchfab   \n",
       "\n",
       "                                              license fileType  \\\n",
       "0                                                None     gltf   \n",
       "1                                                None      fbx   \n",
       "2                                         MIT License      obj   \n",
       "3                                                None      fbx   \n",
       "4                                                None      glb   \n",
       "...                                               ...      ...   \n",
       "1083981                Creative Commons - Attribution      glb   \n",
       "1083982  Creative Commons - Attribution - Share Alike      glb   \n",
       "1083983                Creative Commons - Attribution      glb   \n",
       "1083984                Creative Commons - Attribution      glb   \n",
       "1083985                Creative Commons - Attribution      glb   \n",
       "\n",
       "                                                    sha256 metadata  \n",
       "0        aac5c4f71125f9183b8bbf359691489b7a9ed696b493a8...       {}  \n",
       "1        4be8a7f1b5b50ffa78c757e33ce0eb7e6a7f519f6018c6...       {}  \n",
       "2        38c6785d5cc593e6012d4dcdbb5586736501cf0c06edd6...       {}  \n",
       "3        a7a1957a9bdf9ee223302fb53e7dabf34f02ead84ae1c7...       {}  \n",
       "4        0859233e43aa22f720b0bcc6f081708c1c391bcb15a44d...       {}  \n",
       "...                                                    ...      ...  \n",
       "1083981  20e23e224f4f4cb1243563d9daddfc21a7269c2aff9bfe...       {}  \n",
       "1083982  eb964e3c1a945b129fb396065858cb0f8cf9889dcbccae...       {}  \n",
       "1083983  becba4ce17c75352909e70c71bd48b7c5cd55e7469cbdd...       {}  \n",
       "1083984  15524e631cecaf3537bbbd9756a94ffa78b275ce77e683...       {}  \n",
       "1083985  4b4a2c0e5f4bd89b15c9551c7c34c0083774ead2fb6354...       {}  \n",
       "\n",
       "[1083986 rows x 6 columns]"
      ]
     },
     "execution_count": 7,
     "metadata": {},
     "output_type": "execute_result"
    }
   ],
   "source": [
    "alignment_annotations = oxl.get_alignment_annotations(\n",
    "    download_dir=\"objaverse\" # default download directory\n",
    ")\n",
    "alignment_annotations"
   ]
  },
  {
   "cell_type": "code",
   "execution_count": 8,
   "id": "e36f9143-4569-4793-bb0b-be1d9931db22",
   "metadata": {},
   "outputs": [
    {
     "name": "stderr",
     "output_type": "stream",
     "text": [
      "/tmp/ipykernel_1140762/1123003850.py:1: DeprecationWarning: DataFrameGroupBy.apply operated on the grouping columns. This behavior is deprecated, and in a future version of pandas the grouping columns will be excluded from the operation. Either pass `include_groups=False` to exclude the groupings or explicitly select the grouping columns after groupby to silence this warning.\n",
      "  sampled_df = annotations.groupby('source').apply(lambda x: x.sample(1)).reset_index(drop=True)\n"
     ]
    },
    {
     "data": {
      "text/html": [
       "<div>\n",
       "<style scoped>\n",
       "    .dataframe tbody tr th:only-of-type {\n",
       "        vertical-align: middle;\n",
       "    }\n",
       "\n",
       "    .dataframe tbody tr th {\n",
       "        vertical-align: top;\n",
       "    }\n",
       "\n",
       "    .dataframe thead th {\n",
       "        text-align: right;\n",
       "    }\n",
       "</style>\n",
       "<table border=\"1\" class=\"dataframe\">\n",
       "  <thead>\n",
       "    <tr style=\"text-align: right;\">\n",
       "      <th></th>\n",
       "      <th>fileIdentifier</th>\n",
       "      <th>source</th>\n",
       "      <th>license</th>\n",
       "      <th>fileType</th>\n",
       "      <th>sha256</th>\n",
       "      <th>metadata</th>\n",
       "    </tr>\n",
       "  </thead>\n",
       "  <tbody>\n",
       "    <tr>\n",
       "      <th>0</th>\n",
       "      <td>https://github.com/Hounaida-elghannamii/Systme...</td>\n",
       "      <td>github</td>\n",
       "      <td>None</td>\n",
       "      <td>obj</td>\n",
       "      <td>0acec0a443e3a0c09f9a98b728055e5cb5ab291fde3de8...</td>\n",
       "      <td>{}</td>\n",
       "    </tr>\n",
       "    <tr>\n",
       "      <th>1</th>\n",
       "      <td>https://sketchfab.com/3d-models/d7a0bf7358b140...</td>\n",
       "      <td>sketchfab</td>\n",
       "      <td>Creative Commons - Attribution</td>\n",
       "      <td>glb</td>\n",
       "      <td>143078753acd2f498e16354c601d8eb48d890703b19150...</td>\n",
       "      <td>{}</td>\n",
       "    </tr>\n",
       "    <tr>\n",
       "      <th>2</th>\n",
       "      <td>https://3d-api.si.edu/content/document/3d_pack...</td>\n",
       "      <td>smithsonian</td>\n",
       "      <td>Creative Commons Zero v1.0 Universal</td>\n",
       "      <td>glb</td>\n",
       "      <td>ccc0c974452fdc25bce01a6e869db5506b3a71fd5bc029...</td>\n",
       "      <td>{\"title\": \"Gorilla beringei beringei: MT4 Right\"}</td>\n",
       "    </tr>\n",
       "    <tr>\n",
       "      <th>3</th>\n",
       "      <td>https://thingiverse.com/thing:2840044/files?fi...</td>\n",
       "      <td>thingiverse</td>\n",
       "      <td>Creative Commons - Attribution - Non-Commercia...</td>\n",
       "      <td>stl</td>\n",
       "      <td>c59157bb3b167df86ad24310b12119ad647db1f69271f7...</td>\n",
       "      <td>{\"filename\": \"Pier_top_Middle.stl\"}</td>\n",
       "    </tr>\n",
       "  </tbody>\n",
       "</table>\n",
       "</div>"
      ],
      "text/plain": [
       "                                      fileIdentifier       source  \\\n",
       "0  https://github.com/Hounaida-elghannamii/Systme...       github   \n",
       "1  https://sketchfab.com/3d-models/d7a0bf7358b140...    sketchfab   \n",
       "2  https://3d-api.si.edu/content/document/3d_pack...  smithsonian   \n",
       "3  https://thingiverse.com/thing:2840044/files?fi...  thingiverse   \n",
       "\n",
       "                                             license fileType  \\\n",
       "0                                               None      obj   \n",
       "1                     Creative Commons - Attribution      glb   \n",
       "2               Creative Commons Zero v1.0 Universal      glb   \n",
       "3  Creative Commons - Attribution - Non-Commercia...      stl   \n",
       "\n",
       "                                              sha256  \\\n",
       "0  0acec0a443e3a0c09f9a98b728055e5cb5ab291fde3de8...   \n",
       "1  143078753acd2f498e16354c601d8eb48d890703b19150...   \n",
       "2  ccc0c974452fdc25bce01a6e869db5506b3a71fd5bc029...   \n",
       "3  c59157bb3b167df86ad24310b12119ad647db1f69271f7...   \n",
       "\n",
       "                                            metadata  \n",
       "0                                                 {}  \n",
       "1                                                 {}  \n",
       "2  {\"title\": \"Gorilla beringei beringei: MT4 Right\"}  \n",
       "3                {\"filename\": \"Pier_top_Middle.stl\"}  "
      ]
     },
     "execution_count": 8,
     "metadata": {},
     "output_type": "execute_result"
    }
   ],
   "source": [
    "sampled_df = annotations.groupby('source').apply(lambda x: x.sample(1)).reset_index(drop=True)\n",
    "sampled_df"
   ]
  },
  {
   "cell_type": "code",
   "execution_count": 9,
   "id": "c26511a5-c4a3-48c0-9165-bf86a9239ee0",
   "metadata": {},
   "outputs": [
    {
     "name": "stderr",
     "output_type": "stream",
     "text": [
      "\u001b[32m2024-06-04 23:11:51.610\u001b[0m | \u001b[1mINFO    \u001b[0m | \u001b[36mobjaverse.xl.sketchfab\u001b[0m:\u001b[36mdownload_objects\u001b[0m:\u001b[36m508\u001b[0m - \u001b[1mFound 0 objects already downloaded\u001b[0m\n",
      "\u001b[32m2024-06-04 23:11:51.610\u001b[0m | \u001b[1mINFO    \u001b[0m | \u001b[36mobjaverse.xl.sketchfab\u001b[0m:\u001b[36mdownload_objects\u001b[0m:\u001b[36m529\u001b[0m - \u001b[1mDownloading 1 new objects across 20 processes\u001b[0m\n",
      "100%|███████████████████████████████████████████████████████████████████████████| 1/1 [00:07<00:00,  7.02s/it]\n",
      "\u001b[32m2024-06-04 23:11:59.606\u001b[0m | \u001b[1mINFO    \u001b[0m | \u001b[36mobjaverse.xl.smithsonian\u001b[0m:\u001b[36mdownload_objects\u001b[0m:\u001b[36m312\u001b[0m - \u001b[1mFound 0 Smithsonian Objects already downloaded\u001b[0m\n",
      "\u001b[32m2024-06-04 23:11:59.606\u001b[0m | \u001b[1mINFO    \u001b[0m | \u001b[36mobjaverse.xl.smithsonian\u001b[0m:\u001b[36mdownload_objects\u001b[0m:\u001b[36m315\u001b[0m - \u001b[1mDownloading 1 Smithsonian Objects with 20 processes\u001b[0m\n",
      "Downloading Smithsonian Objects: 100%|██████████████████████████████████████████| 1/1 [00:08<00:00,  8.57s/it]\n",
      "\u001b[32m2024-06-04 23:12:09.142\u001b[0m | \u001b[1mINFO    \u001b[0m | \u001b[36mobjaverse.xl.thingiverse\u001b[0m:\u001b[36mdownload_objects\u001b[0m:\u001b[36m370\u001b[0m - \u001b[1mFound 0 Thingiverse objects downloaded\u001b[0m\n",
      "\u001b[32m2024-06-04 23:12:09.143\u001b[0m | \u001b[1mINFO    \u001b[0m | \u001b[36mobjaverse.xl.thingiverse\u001b[0m:\u001b[36mdownload_objects\u001b[0m:\u001b[36m376\u001b[0m - \u001b[1mDownloading 1 Thingiverse objects with processes=20\u001b[0m\n",
      "Downloading Thingiverse Objects: 100%|██████████████████████████████████████████| 1/1 [00:02<00:00,  2.12s/it]\n",
      "\u001b[32m2024-06-04 23:12:12.265\u001b[0m | \u001b[1mINFO    \u001b[0m | \u001b[36mobjaverse.xl.github\u001b[0m:\u001b[36mdownload_objects\u001b[0m:\u001b[36m602\u001b[0m - \u001b[1mProvided 1 repoIds with 1 objects to process.\u001b[0m\n",
      "\u001b[32m2024-06-04 23:12:12.266\u001b[0m | \u001b[1mINFO    \u001b[0m | \u001b[36mobjaverse.xl.github\u001b[0m:\u001b[36mdownload_objects\u001b[0m:\u001b[36m614\u001b[0m - \u001b[1mFound 1 repoIds not yet downloaded. Downloading now...\u001b[0m\n",
      "Grouping objects by repository: 100%|██████████████████████████████████████████| 1/1 [00:00<00:00, 211.52it/s]\n",
      "Handling 3D object files: 100%|█████████████████████████████████████████| 1211/1211 [00:00<00:00, 1271.51it/s]\n",
      "Downloading repositories: 100%|█████████████████████████████████████████████████| 1/1 [00:45<00:00, 45.06s/it]\n"
     ]
    },
    {
     "data": {
      "text/plain": [
       "{'https://sketchfab.com/3d-models/d7a0bf7358b140ccb745af875c1f3e2f': '/home/wangchi/.objaverse/hf-objaverse-v1/glbs/000-040/d7a0bf7358b140ccb745af875c1f3e2f.glb',\n",
       " 'https://3d-api.si.edu/content/document/3d_package:59f1db2c-1903-48ee-874f-d9fad6079d14/USNM397351_mt4_right_-100-150k-2048-medium.glb': '/home/wangchi/.objaverse/smithsonian/objects/601d83ef-d5c9-52d7-8a0c-07e2f488698b.glb',\n",
       " 'https://thingiverse.com/thing:2840044/files?fileId=4764690': '/home/wangchi/.objaverse/thingiverse/thing-2840044-file-4764690.stl'}"
      ]
     },
     "execution_count": 9,
     "metadata": {},
     "output_type": "execute_result"
    }
   ],
   "source": [
    "oxl.download_objects(objects=sampled_df)"
   ]
  },
  {
   "cell_type": "code",
   "execution_count": 10,
   "id": "36306a99-c111-41c0-ba23-c15c7e4ba20e",
   "metadata": {},
   "outputs": [],
   "source": [
    "import shutil\n",
    "import os\n",
    "\n",
    "shutil.rmtree(os.path.expanduser(\"objaverse\"), ignore_errors=True)"
   ]
  },
  {
   "cell_type": "code",
   "execution_count": 11,
   "id": "4713b97d-9eae-4bda-9208-efe166174654",
   "metadata": {},
   "outputs": [],
   "source": [
    "from typing import Any, Dict, Hashable\n",
    "\n",
    "def handle_found_object(\n",
    "    local_path: str,\n",
    "    file_identifier: str,\n",
    "    sha256: str,\n",
    "    metadata: Dict[Hashable, Any]\n",
    ") -> None:\n",
    "    print(\"\\n\\n\\n---HANDLE_FOUND_OBJECT CALLED---\\n\",\n",
    "          f\"  {local_path=}\\n  {file_identifier=}\\n  {sha256=}\\n  {metadata=}\\n\\n\\n\")"
   ]
  },
  {
   "cell_type": "code",
   "execution_count": 12,
   "id": "e7dcdd6d-7095-4e5b-9e7c-3c17e2f15216",
   "metadata": {},
   "outputs": [
    {
     "name": "stderr",
     "output_type": "stream",
     "text": [
      "\u001b[32m2024-06-04 23:13:01.469\u001b[0m | \u001b[1mINFO    \u001b[0m | \u001b[36mobjaverse.xl.sketchfab\u001b[0m:\u001b[36mdownload_objects\u001b[0m:\u001b[36m508\u001b[0m - \u001b[1mFound 1 objects already downloaded\u001b[0m\n",
      "\u001b[32m2024-06-04 23:13:01.470\u001b[0m | \u001b[1mINFO    \u001b[0m | \u001b[36mobjaverse.xl.sketchfab\u001b[0m:\u001b[36mdownload_objects\u001b[0m:\u001b[36m529\u001b[0m - \u001b[1mDownloading 0 new objects across 20 processes\u001b[0m\n",
      "\u001b[32m2024-06-04 23:13:01.504\u001b[0m | \u001b[1mINFO    \u001b[0m | \u001b[36mobjaverse.xl.smithsonian\u001b[0m:\u001b[36mdownload_objects\u001b[0m:\u001b[36m312\u001b[0m - \u001b[1mFound 1 Smithsonian Objects already downloaded\u001b[0m\n",
      "\u001b[32m2024-06-04 23:13:01.504\u001b[0m | \u001b[1mINFO    \u001b[0m | \u001b[36mobjaverse.xl.smithsonian\u001b[0m:\u001b[36mdownload_objects\u001b[0m:\u001b[36m315\u001b[0m - \u001b[1mDownloading 0 Smithsonian Objects with 20 processes\u001b[0m\n",
      "\u001b[32m2024-06-04 23:13:01.507\u001b[0m | \u001b[1mINFO    \u001b[0m | \u001b[36mobjaverse.xl.thingiverse\u001b[0m:\u001b[36mdownload_objects\u001b[0m:\u001b[36m370\u001b[0m - \u001b[1mFound 1 Thingiverse objects downloaded\u001b[0m\n",
      "\u001b[32m2024-06-04 23:13:01.508\u001b[0m | \u001b[1mINFO    \u001b[0m | \u001b[36mobjaverse.xl.thingiverse\u001b[0m:\u001b[36mdownload_objects\u001b[0m:\u001b[36m376\u001b[0m - \u001b[1mDownloading 0 Thingiverse objects with processes=20\u001b[0m\n",
      "\u001b[32m2024-06-04 23:13:01.509\u001b[0m | \u001b[1mINFO    \u001b[0m | \u001b[36mobjaverse.xl.github\u001b[0m:\u001b[36mdownload_objects\u001b[0m:\u001b[36m602\u001b[0m - \u001b[1mProvided 1 repoIds with 1 objects to process.\u001b[0m\n",
      "\u001b[32m2024-06-04 23:13:01.509\u001b[0m | \u001b[1mINFO    \u001b[0m | \u001b[36mobjaverse.xl.github\u001b[0m:\u001b[36mdownload_objects\u001b[0m:\u001b[36m614\u001b[0m - \u001b[1mFound 1 repoIds not yet downloaded. Downloading now...\u001b[0m\n",
      "Grouping objects by repository: 100%|██████████████████████████████████████████| 1/1 [00:00<00:00, 892.60it/s]\n",
      "Handling 3D object files:  25%|██████████▌                                | 297/1211 [00:00<00:01, 886.28it/s]"
     ]
    },
    {
     "name": "stdout",
     "output_type": "stream",
     "text": [
      "\n",
      "\n",
      "\n",
      "---HANDLE_FOUND_OBJECT CALLED---\n",
      "   local_path='/tmp/tmppqad4a4r/Systme-d-indexation-et-de-recherche-par-le-contenu-dans-une-base-d-exemples-de-modeles-3D_OpenGL/data/3D_Models/Kalathos26.obj'\n",
      "  file_identifier='https://github.com/Hounaida-elghannamii/Systme-d-indexation-et-de-recherche-par-le-contenu-dans-une-base-d-exemples-de-modeles-3D_OpenGL/blob/96067f5e6bc87631f3251cd697e13d6d6a37a83a/data/3D_Models/Kalathos26.obj'\n",
      "  sha256='0acec0a443e3a0c09f9a98b728055e5cb5ab291fde3de83c91ba2172ef03b9ae'\n",
      "  metadata={'github_organization': 'Hounaida-elghannamii', 'github_repo': 'Systme-d-indexation-et-de-recherche-par-le-contenu-dans-une-base-d-exemples-de-modeles-3D_OpenGL'}\n",
      "\n",
      "\n",
      "\n"
     ]
    },
    {
     "name": "stderr",
     "output_type": "stream",
     "text": [
      "Handling 3D object files: 100%|█████████████████████████████████████████| 1211/1211 [00:01<00:00, 1188.25it/s]\n",
      "Downloading repositories: 100%|█████████████████████████████████████████████████| 1/1 [00:48<00:00, 48.30s/it]\n"
     ]
    },
    {
     "data": {
      "text/plain": [
       "{'https://sketchfab.com/3d-models/d7a0bf7358b140ccb745af875c1f3e2f': '~/.objaverse/hf-objaverse-v1/glbs/000-040/d7a0bf7358b140ccb745af875c1f3e2f.glb',\n",
       " 'https://3d-api.si.edu/content/document/3d_package:59f1db2c-1903-48ee-874f-d9fad6079d14/USNM397351_mt4_right_-100-150k-2048-medium.glb': '/home/wangchi/.objaverse/smithsonian/objects/601d83ef-d5c9-52d7-8a0c-07e2f488698b.glb',\n",
       " 'https://thingiverse.com/thing:2840044/files?fileId=4764690': '/home/wangchi/.objaverse/thingiverse/thing-2840044-file-4764690.stl'}"
      ]
     },
     "execution_count": 12,
     "metadata": {},
     "output_type": "execute_result"
    }
   ],
   "source": [
    "oxl.download_objects(\n",
    "    objects=sampled_df,\n",
    "    handle_found_object=handle_found_object\n",
    ")"
   ]
  },
  {
   "cell_type": "code",
   "execution_count": 13,
   "id": "6292239f-78a2-4706-af9e-d72f416bbea9",
   "metadata": {},
   "outputs": [
    {
     "name": "stderr",
     "output_type": "stream",
     "text": [
      "/tmp/ipykernel_1140762/791884139.py:2: FutureWarning: ChainedAssignmentError: behaviour will change in pandas 3.0!\n",
      "You are setting values through chained assignment. Currently this works in certain cases, but when using Copy-on-Write (which will become the default behaviour in pandas 3.0) this will never work to update the original DataFrame or Series, because the intermediate object on which we are setting values will behave as a copy.\n",
      "A typical example is when you are setting values in a column of a DataFrame, like:\n",
      "\n",
      "df[\"col\"][row_indexer] = value\n",
      "\n",
      "Use `df.loc[row_indexer, \"col\"] = values` instead, to perform the assignment in a single step and ensure this keeps updating the original `df`.\n",
      "\n",
      "See the caveats in the documentation: https://pandas.pydata.org/pandas-docs/stable/user_guide/indexing.html#returning-a-view-versus-a-copy\n",
      "\n",
      "  modified_df.iloc[0][\"sha256\"] = \"modified-sha256\"\n"
     ]
    },
    {
     "data": {
      "text/html": [
       "<div>\n",
       "<style scoped>\n",
       "    .dataframe tbody tr th:only-of-type {\n",
       "        vertical-align: middle;\n",
       "    }\n",
       "\n",
       "    .dataframe tbody tr th {\n",
       "        vertical-align: top;\n",
       "    }\n",
       "\n",
       "    .dataframe thead th {\n",
       "        text-align: right;\n",
       "    }\n",
       "</style>\n",
       "<table border=\"1\" class=\"dataframe\">\n",
       "  <thead>\n",
       "    <tr style=\"text-align: right;\">\n",
       "      <th></th>\n",
       "      <th>fileIdentifier</th>\n",
       "      <th>source</th>\n",
       "      <th>license</th>\n",
       "      <th>fileType</th>\n",
       "      <th>sha256</th>\n",
       "      <th>metadata</th>\n",
       "    </tr>\n",
       "  </thead>\n",
       "  <tbody>\n",
       "    <tr>\n",
       "      <th>0</th>\n",
       "      <td>https://github.com/Hounaida-elghannamii/Systme...</td>\n",
       "      <td>github</td>\n",
       "      <td>None</td>\n",
       "      <td>obj</td>\n",
       "      <td>modified-sha256</td>\n",
       "      <td>{}</td>\n",
       "    </tr>\n",
       "    <tr>\n",
       "      <th>1</th>\n",
       "      <td>https://sketchfab.com/3d-models/d7a0bf7358b140...</td>\n",
       "      <td>sketchfab</td>\n",
       "      <td>Creative Commons - Attribution</td>\n",
       "      <td>glb</td>\n",
       "      <td>143078753acd2f498e16354c601d8eb48d890703b19150...</td>\n",
       "      <td>{}</td>\n",
       "    </tr>\n",
       "    <tr>\n",
       "      <th>2</th>\n",
       "      <td>https://3d-api.si.edu/content/document/3d_pack...</td>\n",
       "      <td>smithsonian</td>\n",
       "      <td>Creative Commons Zero v1.0 Universal</td>\n",
       "      <td>glb</td>\n",
       "      <td>ccc0c974452fdc25bce01a6e869db5506b3a71fd5bc029...</td>\n",
       "      <td>{\"title\": \"Gorilla beringei beringei: MT4 Right\"}</td>\n",
       "    </tr>\n",
       "    <tr>\n",
       "      <th>3</th>\n",
       "      <td>https://thingiverse.com/thing:2840044/files?fi...</td>\n",
       "      <td>thingiverse</td>\n",
       "      <td>Creative Commons - Attribution - Non-Commercia...</td>\n",
       "      <td>stl</td>\n",
       "      <td>c59157bb3b167df86ad24310b12119ad647db1f69271f7...</td>\n",
       "      <td>{\"filename\": \"Pier_top_Middle.stl\"}</td>\n",
       "    </tr>\n",
       "  </tbody>\n",
       "</table>\n",
       "</div>"
      ],
      "text/plain": [
       "                                      fileIdentifier       source  \\\n",
       "0  https://github.com/Hounaida-elghannamii/Systme...       github   \n",
       "1  https://sketchfab.com/3d-models/d7a0bf7358b140...    sketchfab   \n",
       "2  https://3d-api.si.edu/content/document/3d_pack...  smithsonian   \n",
       "3  https://thingiverse.com/thing:2840044/files?fi...  thingiverse   \n",
       "\n",
       "                                             license fileType  \\\n",
       "0                                               None      obj   \n",
       "1                     Creative Commons - Attribution      glb   \n",
       "2               Creative Commons Zero v1.0 Universal      glb   \n",
       "3  Creative Commons - Attribution - Non-Commercia...      stl   \n",
       "\n",
       "                                              sha256  \\\n",
       "0                                    modified-sha256   \n",
       "1  143078753acd2f498e16354c601d8eb48d890703b19150...   \n",
       "2  ccc0c974452fdc25bce01a6e869db5506b3a71fd5bc029...   \n",
       "3  c59157bb3b167df86ad24310b12119ad647db1f69271f7...   \n",
       "\n",
       "                                            metadata  \n",
       "0                                                 {}  \n",
       "1                                                 {}  \n",
       "2  {\"title\": \"Gorilla beringei beringei: MT4 Right\"}  \n",
       "3                {\"filename\": \"Pier_top_Middle.stl\"}  "
      ]
     },
     "execution_count": 13,
     "metadata": {},
     "output_type": "execute_result"
    }
   ],
   "source": [
    "modified_df = sampled_df.copy()\n",
    "modified_df.iloc[0][\"sha256\"] = \"modified-sha256\"\n",
    "modified_df"
   ]
  },
  {
   "cell_type": "code",
   "execution_count": 14,
   "id": "f2e81b9d-32d1-49c5-a2f3-16e0d565999c",
   "metadata": {},
   "outputs": [],
   "source": [
    "def handle_modified_object(\n",
    "    local_path: str,\n",
    "    file_identifier: str,\n",
    "    new_sha256: str,\n",
    "    old_sha256: str,\n",
    "    metadata: Dict[Hashable, Any],\n",
    ") -> None:\n",
    "    print(\"\\n\\n\\n---HANDLE_MODIFIED_OBJECT CALLED---\\n\",\n",
    "          f\"  {local_path=}\\n  {file_identifier=}\\n  {old_sha256=}\\n  {new_sha256}\\n  {metadata=}\\n\\n\\n\")"
   ]
  },
  {
   "cell_type": "code",
   "execution_count": 15,
   "id": "5ca93216-e5b3-4a72-8877-fe016ad42cc9",
   "metadata": {},
   "outputs": [
    {
     "name": "stderr",
     "output_type": "stream",
     "text": [
      "\u001b[32m2024-06-04 23:13:52.036\u001b[0m | \u001b[1mINFO    \u001b[0m | \u001b[36mobjaverse.xl.sketchfab\u001b[0m:\u001b[36mdownload_objects\u001b[0m:\u001b[36m508\u001b[0m - \u001b[1mFound 1 objects already downloaded\u001b[0m\n",
      "\u001b[32m2024-06-04 23:13:52.036\u001b[0m | \u001b[1mINFO    \u001b[0m | \u001b[36mobjaverse.xl.sketchfab\u001b[0m:\u001b[36mdownload_objects\u001b[0m:\u001b[36m529\u001b[0m - \u001b[1mDownloading 0 new objects across 20 processes\u001b[0m\n",
      "\u001b[32m2024-06-04 23:13:52.061\u001b[0m | \u001b[1mINFO    \u001b[0m | \u001b[36mobjaverse.xl.smithsonian\u001b[0m:\u001b[36mdownload_objects\u001b[0m:\u001b[36m312\u001b[0m - \u001b[1mFound 1 Smithsonian Objects already downloaded\u001b[0m\n",
      "\u001b[32m2024-06-04 23:13:52.062\u001b[0m | \u001b[1mINFO    \u001b[0m | \u001b[36mobjaverse.xl.smithsonian\u001b[0m:\u001b[36mdownload_objects\u001b[0m:\u001b[36m315\u001b[0m - \u001b[1mDownloading 0 Smithsonian Objects with 20 processes\u001b[0m\n",
      "\u001b[32m2024-06-04 23:13:52.063\u001b[0m | \u001b[1mINFO    \u001b[0m | \u001b[36mobjaverse.xl.thingiverse\u001b[0m:\u001b[36mdownload_objects\u001b[0m:\u001b[36m370\u001b[0m - \u001b[1mFound 1 Thingiverse objects downloaded\u001b[0m\n",
      "\u001b[32m2024-06-04 23:13:52.063\u001b[0m | \u001b[1mINFO    \u001b[0m | \u001b[36mobjaverse.xl.thingiverse\u001b[0m:\u001b[36mdownload_objects\u001b[0m:\u001b[36m376\u001b[0m - \u001b[1mDownloading 0 Thingiverse objects with processes=20\u001b[0m\n",
      "\u001b[32m2024-06-04 23:13:52.064\u001b[0m | \u001b[1mINFO    \u001b[0m | \u001b[36mobjaverse.xl.github\u001b[0m:\u001b[36mdownload_objects\u001b[0m:\u001b[36m602\u001b[0m - \u001b[1mProvided 1 repoIds with 1 objects to process.\u001b[0m\n",
      "\u001b[32m2024-06-04 23:13:52.064\u001b[0m | \u001b[1mINFO    \u001b[0m | \u001b[36mobjaverse.xl.github\u001b[0m:\u001b[36mdownload_objects\u001b[0m:\u001b[36m614\u001b[0m - \u001b[1mFound 1 repoIds not yet downloaded. Downloading now...\u001b[0m\n",
      "Grouping objects by repository: 100%|██████████████████████████████████████████| 1/1 [00:00<00:00, 785.16it/s]\n",
      "Handling 3D object files:  16%|██████▋                                    | 190/1211 [00:00<00:01, 770.75it/s]"
     ]
    },
    {
     "name": "stdout",
     "output_type": "stream",
     "text": [
      "\n",
      "\n",
      "\n",
      "---HANDLE_MODIFIED_OBJECT CALLED---\n",
      "   local_path='/tmp/tmphy_4pqbg/Systme-d-indexation-et-de-recherche-par-le-contenu-dans-une-base-d-exemples-de-modeles-3D_OpenGL/data/3D_Models/Kalathos26.obj'\n",
      "  file_identifier='https://github.com/Hounaida-elghannamii/Systme-d-indexation-et-de-recherche-par-le-contenu-dans-une-base-d-exemples-de-modeles-3D_OpenGL/blob/96067f5e6bc87631f3251cd697e13d6d6a37a83a/data/3D_Models/Kalathos26.obj'\n",
      "  old_sha256='modified-sha256'\n",
      "  0acec0a443e3a0c09f9a98b728055e5cb5ab291fde3de83c91ba2172ef03b9ae\n",
      "  metadata={'github_organization': 'Hounaida-elghannamii', 'github_repo': 'Systme-d-indexation-et-de-recherche-par-le-contenu-dans-une-base-d-exemples-de-modeles-3D_OpenGL'}\n",
      "\n",
      "\n",
      "\n"
     ]
    },
    {
     "name": "stderr",
     "output_type": "stream",
     "text": [
      "Handling 3D object files: 100%|█████████████████████████████████████████| 1211/1211 [00:00<00:00, 1219.81it/s]\n",
      "Downloading repositories: 100%|█████████████████████████████████████████████████| 1/1 [00:46<00:00, 46.57s/it]\n"
     ]
    },
    {
     "data": {
      "text/plain": [
       "{'https://sketchfab.com/3d-models/d7a0bf7358b140ccb745af875c1f3e2f': '~/.objaverse/hf-objaverse-v1/glbs/000-040/d7a0bf7358b140ccb745af875c1f3e2f.glb',\n",
       " 'https://3d-api.si.edu/content/document/3d_package:59f1db2c-1903-48ee-874f-d9fad6079d14/USNM397351_mt4_right_-100-150k-2048-medium.glb': '/home/wangchi/.objaverse/smithsonian/objects/601d83ef-d5c9-52d7-8a0c-07e2f488698b.glb',\n",
       " 'https://thingiverse.com/thing:2840044/files?fileId=4764690': '/home/wangchi/.objaverse/thingiverse/thing-2840044-file-4764690.stl'}"
      ]
     },
     "execution_count": 15,
     "metadata": {},
     "output_type": "execute_result"
    }
   ],
   "source": [
    "# remove previously downloaded objects\n",
    "shutil.rmtree(os.path.expanduser(\"objaverse\"), ignore_errors=True)\n",
    "\n",
    "# redownload\n",
    "oxl.download_objects(\n",
    "    objects=modified_df,\n",
    "    handle_found_object=handle_found_object,\n",
    "    handle_modified_object=handle_modified_object  # <---------------\n",
    ")"
   ]
  },
  {
   "cell_type": "code",
   "execution_count": 16,
   "id": "ccc5cf6e-ac19-4889-881b-7d79d44ce497",
   "metadata": {},
   "outputs": [
    {
     "name": "stderr",
     "output_type": "stream",
     "text": [
      "/tmp/ipykernel_1140762/972878980.py:2: FutureWarning: ChainedAssignmentError: behaviour will change in pandas 3.0!\n",
      "You are setting values through chained assignment. Currently this works in certain cases, but when using Copy-on-Write (which will become the default behaviour in pandas 3.0) this will never work to update the original DataFrame or Series, because the intermediate object on which we are setting values will behave as a copy.\n",
      "A typical example is when you are setting values in a column of a DataFrame, like:\n",
      "\n",
      "df[\"col\"][row_indexer] = value\n",
      "\n",
      "Use `df.loc[row_indexer, \"col\"] = values` instead, to perform the assignment in a single step and ensure this keeps updating the original `df`.\n",
      "\n",
      "See the caveats in the documentation: https://pandas.pydata.org/pandas-docs/stable/user_guide/indexing.html#returning-a-view-versus-a-copy\n",
      "\n",
      "  missing_df.iloc[1][\"fileIdentifier\"] += \"-i-do-not-exist\"\n"
     ]
    },
    {
     "name": "stdout",
     "output_type": "stream",
     "text": [
      "https://sketchfab.com/3d-models/d7a0bf7358b140ccb745af875c1f3e2f-i-do-not-exist\n"
     ]
    },
    {
     "data": {
      "text/html": [
       "<div>\n",
       "<style scoped>\n",
       "    .dataframe tbody tr th:only-of-type {\n",
       "        vertical-align: middle;\n",
       "    }\n",
       "\n",
       "    .dataframe tbody tr th {\n",
       "        vertical-align: top;\n",
       "    }\n",
       "\n",
       "    .dataframe thead th {\n",
       "        text-align: right;\n",
       "    }\n",
       "</style>\n",
       "<table border=\"1\" class=\"dataframe\">\n",
       "  <thead>\n",
       "    <tr style=\"text-align: right;\">\n",
       "      <th></th>\n",
       "      <th>fileIdentifier</th>\n",
       "      <th>source</th>\n",
       "      <th>license</th>\n",
       "      <th>fileType</th>\n",
       "      <th>sha256</th>\n",
       "      <th>metadata</th>\n",
       "    </tr>\n",
       "  </thead>\n",
       "  <tbody>\n",
       "    <tr>\n",
       "      <th>0</th>\n",
       "      <td>https://github.com/Hounaida-elghannamii/Systme...</td>\n",
       "      <td>github</td>\n",
       "      <td>None</td>\n",
       "      <td>obj</td>\n",
       "      <td>0acec0a443e3a0c09f9a98b728055e5cb5ab291fde3de8...</td>\n",
       "      <td>{}</td>\n",
       "    </tr>\n",
       "    <tr>\n",
       "      <th>1</th>\n",
       "      <td>https://sketchfab.com/3d-models/d7a0bf7358b140...</td>\n",
       "      <td>sketchfab</td>\n",
       "      <td>Creative Commons - Attribution</td>\n",
       "      <td>glb</td>\n",
       "      <td>143078753acd2f498e16354c601d8eb48d890703b19150...</td>\n",
       "      <td>{}</td>\n",
       "    </tr>\n",
       "    <tr>\n",
       "      <th>2</th>\n",
       "      <td>https://3d-api.si.edu/content/document/3d_pack...</td>\n",
       "      <td>smithsonian</td>\n",
       "      <td>Creative Commons Zero v1.0 Universal</td>\n",
       "      <td>glb</td>\n",
       "      <td>ccc0c974452fdc25bce01a6e869db5506b3a71fd5bc029...</td>\n",
       "      <td>{\"title\": \"Gorilla beringei beringei: MT4 Right\"}</td>\n",
       "    </tr>\n",
       "    <tr>\n",
       "      <th>3</th>\n",
       "      <td>https://thingiverse.com/thing:2840044/files?fi...</td>\n",
       "      <td>thingiverse</td>\n",
       "      <td>Creative Commons - Attribution - Non-Commercia...</td>\n",
       "      <td>stl</td>\n",
       "      <td>c59157bb3b167df86ad24310b12119ad647db1f69271f7...</td>\n",
       "      <td>{\"filename\": \"Pier_top_Middle.stl\"}</td>\n",
       "    </tr>\n",
       "  </tbody>\n",
       "</table>\n",
       "</div>"
      ],
      "text/plain": [
       "                                      fileIdentifier       source  \\\n",
       "0  https://github.com/Hounaida-elghannamii/Systme...       github   \n",
       "1  https://sketchfab.com/3d-models/d7a0bf7358b140...    sketchfab   \n",
       "2  https://3d-api.si.edu/content/document/3d_pack...  smithsonian   \n",
       "3  https://thingiverse.com/thing:2840044/files?fi...  thingiverse   \n",
       "\n",
       "                                             license fileType  \\\n",
       "0                                               None      obj   \n",
       "1                     Creative Commons - Attribution      glb   \n",
       "2               Creative Commons Zero v1.0 Universal      glb   \n",
       "3  Creative Commons - Attribution - Non-Commercia...      stl   \n",
       "\n",
       "                                              sha256  \\\n",
       "0  0acec0a443e3a0c09f9a98b728055e5cb5ab291fde3de8...   \n",
       "1  143078753acd2f498e16354c601d8eb48d890703b19150...   \n",
       "2  ccc0c974452fdc25bce01a6e869db5506b3a71fd5bc029...   \n",
       "3  c59157bb3b167df86ad24310b12119ad647db1f69271f7...   \n",
       "\n",
       "                                            metadata  \n",
       "0                                                 {}  \n",
       "1                                                 {}  \n",
       "2  {\"title\": \"Gorilla beringei beringei: MT4 Right\"}  \n",
       "3                {\"filename\": \"Pier_top_Middle.stl\"}  "
      ]
     },
     "execution_count": 16,
     "metadata": {},
     "output_type": "execute_result"
    }
   ],
   "source": [
    "missing_df = sampled_df.copy()\n",
    "missing_df.iloc[1][\"fileIdentifier\"] += \"-i-do-not-exist\"\n",
    "\n",
    "print(missing_df.iloc[1][\"fileIdentifier\"])\n",
    "missing_df"
   ]
  },
  {
   "cell_type": "code",
   "execution_count": 17,
   "id": "3be96c0b-7ffe-47c8-97e6-201970ac79db",
   "metadata": {},
   "outputs": [],
   "source": [
    "def handle_missing_object(\n",
    "    file_identifier: str,\n",
    "    sha256: str,\n",
    "    metadata: Dict[Hashable, Any]\n",
    ") -> None:\n",
    "    print(\"\\n\\n\\n---HANDLE_MISSING_OBJECT CALLED---\\n\",\n",
    "          f\"  {file_identifier=}\\n  {sha256=}\\n  {metadata=}\\n\\n\\n\")"
   ]
  },
  {
   "cell_type": "code",
   "execution_count": 18,
   "id": "f74b2bf2-1c0f-4be6-8516-b56a0566c16a",
   "metadata": {},
   "outputs": [
    {
     "name": "stderr",
     "output_type": "stream",
     "text": [
      "\u001b[32m2024-06-04 23:14:41.273\u001b[0m | \u001b[1mINFO    \u001b[0m | \u001b[36mobjaverse.xl.sketchfab\u001b[0m:\u001b[36mdownload_objects\u001b[0m:\u001b[36m508\u001b[0m - \u001b[1mFound 0 objects already downloaded\u001b[0m\n",
      "\u001b[32m2024-06-04 23:14:41.274\u001b[0m | \u001b[31m\u001b[1mERROR   \u001b[0m | \u001b[36mobjaverse.xl.sketchfab\u001b[0m:\u001b[36mdownload_objects\u001b[0m:\u001b[36m517\u001b[0m - \u001b[31m\u001b[1mCould not find object with uid d7a0bf7358b140ccb745af875c1f3e2f-i-do-not-exist. Skipping it.\u001b[0m\n",
      "\u001b[32m2024-06-04 23:14:41.275\u001b[0m | \u001b[1mINFO    \u001b[0m | \u001b[36mobjaverse.xl.sketchfab\u001b[0m:\u001b[36mdownload_objects\u001b[0m:\u001b[36m529\u001b[0m - \u001b[1mDownloading 0 new objects across 20 processes\u001b[0m\n",
      "\u001b[32m2024-06-04 23:14:41.318\u001b[0m | \u001b[1mINFO    \u001b[0m | \u001b[36mobjaverse.xl.smithsonian\u001b[0m:\u001b[36mdownload_objects\u001b[0m:\u001b[36m312\u001b[0m - \u001b[1mFound 1 Smithsonian Objects already downloaded\u001b[0m\n",
      "\u001b[32m2024-06-04 23:14:41.318\u001b[0m | \u001b[1mINFO    \u001b[0m | \u001b[36mobjaverse.xl.smithsonian\u001b[0m:\u001b[36mdownload_objects\u001b[0m:\u001b[36m315\u001b[0m - \u001b[1mDownloading 0 Smithsonian Objects with 20 processes\u001b[0m\n",
      "\u001b[32m2024-06-04 23:14:41.320\u001b[0m | \u001b[1mINFO    \u001b[0m | \u001b[36mobjaverse.xl.thingiverse\u001b[0m:\u001b[36mdownload_objects\u001b[0m:\u001b[36m370\u001b[0m - \u001b[1mFound 1 Thingiverse objects downloaded\u001b[0m\n",
      "\u001b[32m2024-06-04 23:14:41.321\u001b[0m | \u001b[1mINFO    \u001b[0m | \u001b[36mobjaverse.xl.thingiverse\u001b[0m:\u001b[36mdownload_objects\u001b[0m:\u001b[36m376\u001b[0m - \u001b[1mDownloading 0 Thingiverse objects with processes=20\u001b[0m\n",
      "\u001b[32m2024-06-04 23:14:41.323\u001b[0m | \u001b[1mINFO    \u001b[0m | \u001b[36mobjaverse.xl.github\u001b[0m:\u001b[36mdownload_objects\u001b[0m:\u001b[36m602\u001b[0m - \u001b[1mProvided 1 repoIds with 1 objects to process.\u001b[0m\n",
      "\u001b[32m2024-06-04 23:14:41.323\u001b[0m | \u001b[1mINFO    \u001b[0m | \u001b[36mobjaverse.xl.github\u001b[0m:\u001b[36mdownload_objects\u001b[0m:\u001b[36m614\u001b[0m - \u001b[1mFound 1 repoIds not yet downloaded. Downloading now...\u001b[0m\n"
     ]
    },
    {
     "name": "stdout",
     "output_type": "stream",
     "text": [
      "\n",
      "\n",
      "\n",
      "---HANDLE_MISSING_OBJECT CALLED---\n",
      "   file_identifier='https://sketchfab.com/3d-models/d7a0bf7358b140ccb745af875c1f3e2f-i-do-not-exist'\n",
      "  sha256='143078753acd2f498e16354c601d8eb48d890703b1915001e64ec036a4334f92'\n",
      "  metadata={}\n",
      "\n",
      "\n",
      "\n"
     ]
    },
    {
     "name": "stderr",
     "output_type": "stream",
     "text": [
      "Grouping objects by repository: 100%|██████████████████████████████████████████| 1/1 [00:00<00:00, 231.68it/s]\n",
      "Handling 3D object files:  26%|███████████▎                               | 318/1211 [00:00<00:00, 976.18it/s]"
     ]
    },
    {
     "name": "stdout",
     "output_type": "stream",
     "text": [
      "\n",
      "\n",
      "\n",
      "---HANDLE_FOUND_OBJECT CALLED---\n",
      "   local_path='/tmp/tmpbxea94mf/Systme-d-indexation-et-de-recherche-par-le-contenu-dans-une-base-d-exemples-de-modeles-3D_OpenGL/data/3D_Models/Kalathos26.obj'\n",
      "  file_identifier='https://github.com/Hounaida-elghannamii/Systme-d-indexation-et-de-recherche-par-le-contenu-dans-une-base-d-exemples-de-modeles-3D_OpenGL/blob/96067f5e6bc87631f3251cd697e13d6d6a37a83a/data/3D_Models/Kalathos26.obj'\n",
      "  sha256='0acec0a443e3a0c09f9a98b728055e5cb5ab291fde3de83c91ba2172ef03b9ae'\n",
      "  metadata={'github_organization': 'Hounaida-elghannamii', 'github_repo': 'Systme-d-indexation-et-de-recherche-par-le-contenu-dans-une-base-d-exemples-de-modeles-3D_OpenGL'}\n",
      "\n",
      "\n",
      "\n"
     ]
    },
    {
     "name": "stderr",
     "output_type": "stream",
     "text": [
      "Handling 3D object files: 100%|█████████████████████████████████████████| 1211/1211 [00:00<00:00, 1259.60it/s]\n",
      "Downloading repositories: 100%|█████████████████████████████████████████████████| 1/1 [00:43<00:00, 43.22s/it]\n"
     ]
    },
    {
     "data": {
      "text/plain": [
       "{'https://3d-api.si.edu/content/document/3d_package:59f1db2c-1903-48ee-874f-d9fad6079d14/USNM397351_mt4_right_-100-150k-2048-medium.glb': '/home/wangchi/.objaverse/smithsonian/objects/601d83ef-d5c9-52d7-8a0c-07e2f488698b.glb',\n",
       " 'https://thingiverse.com/thing:2840044/files?fileId=4764690': '/home/wangchi/.objaverse/thingiverse/thing-2840044-file-4764690.stl'}"
      ]
     },
     "execution_count": 18,
     "metadata": {},
     "output_type": "execute_result"
    }
   ],
   "source": [
    "# remove previously downloaded objects\n",
    "shutil.rmtree(os.path.expanduser(\"objaverse\"), ignore_errors=True)\n",
    "\n",
    "# redownload\n",
    "oxl.download_objects(\n",
    "    objects=missing_df,\n",
    "    handle_found_object=handle_found_object,\n",
    "    handle_modified_object=handle_modified_object,\n",
    "    handle_missing_object=handle_missing_object  # <---------------\n",
    ")"
   ]
  },
  {
   "cell_type": "code",
   "execution_count": 19,
   "id": "48f814d2-876a-4feb-9168-b7067a816fe6",
   "metadata": {},
   "outputs": [],
   "source": [
    "def handle_new_object(\n",
    "    local_path: str,\n",
    "    file_identifier: str,\n",
    "    sha256: str,\n",
    "    metadata: Dict[Hashable, Any]\n",
    ") -> None:\n",
    "    print(\"\\n\\n\\n---HANDLE_NEW_OBJECT CALLED---\\n\",\n",
    "          f\"  {local_path=}\\n  {file_identifier=}\\n  {sha256=}\\n  {metadata=}\\n\\n\\n\")"
   ]
  },
  {
   "cell_type": "code",
   "execution_count": null,
   "id": "af4c3144-d9b1-49ca-920c-b1a2c2e891c7",
   "metadata": {},
   "outputs": [
    {
     "name": "stderr",
     "output_type": "stream",
     "text": [
      "\u001b[32m2024-06-05 01:58:09.107\u001b[0m | \u001b[1mINFO    \u001b[0m | \u001b[36mobjaverse.xl.sketchfab\u001b[0m:\u001b[36mdownload_objects\u001b[0m:\u001b[36m508\u001b[0m - \u001b[1mFound 234 objects already downloaded\u001b[0m\n",
      "\u001b[32m2024-06-05 01:58:30.633\u001b[0m | \u001b[1mINFO    \u001b[0m | \u001b[36mobjaverse.xl.sketchfab\u001b[0m:\u001b[36mdownload_objects\u001b[0m:\u001b[36m529\u001b[0m - \u001b[1mDownloading 795797 new objects across 20 processes\u001b[0m\n",
      "  0%|                                                                              | 0/795797 [00:00<?, ?it/s]"
     ]
    },
    {
     "name": "stdout",
     "output_type": "stream",
     "text": [
      "\n",
      "\n",
      "\n",
      "---HANDLE_FOUND_OBJECT CALLED---\n",
      "   local_path='/tmp/tmpxn87tr41/glbs/000-092/49b68fc9287640d8b5de2d3bf6b3e594.glb'\n",
      "  file_identifier='https://sketchfab.com/3d-models/49b68fc9287640d8b5de2d3bf6b3e594'\n",
      "  sha256='e606896f639cb560bc0b4051b9e6891107ba06362f937c2186b89a3e1707fb84'\n",
      "  metadata={}\n",
      "\n",
      "\n",
      "\n"
     ]
    },
    {
     "name": "stderr",
     "output_type": "stream",
     "text": [
      "  0%|                                                                 | 1/795797 [00:15<3492:33:43, 15.80s/it]"
     ]
    },
    {
     "name": "stdout",
     "output_type": "stream",
     "text": [
      "\n",
      "\n",
      "\n",
      "---HANDLE_FOUND_OBJECT CALLED---\n",
      "   local_path='/tmp/tmpnsp6tfbw/glbs/000-061/9ef6bb0c389143cd95a24f0ea997d75a.glb'\n",
      "  file_identifier='https://sketchfab.com/3d-models/9ef6bb0c389143cd95a24f0ea997d75a'\n",
      "  sha256='ea914d30b0e5e04b57870c70d227bae5a0f386d991ec0a081f753bc0a44e4ace'\n",
      "  metadata={}\n",
      "\n",
      "\n",
      "\n"
     ]
    },
    {
     "name": "stderr",
     "output_type": "stream",
     "text": [
      "  0%|                                                                 | 2/795797 [00:19<1873:53:46,  8.48s/it]"
     ]
    },
    {
     "name": "stdout",
     "output_type": "stream",
     "text": [
      "\n",
      "\n",
      "\n",
      "---HANDLE_FOUND_OBJECT CALLED---\n",
      "   local_path='/tmp/tmphwpn0ktc/glbs/000-067/dbc0927926df463ebe0924a40ae6174c.glb'\n",
      "  file_identifier='https://sketchfab.com/3d-models/dbc0927926df463ebe0924a40ae6174c'\n",
      "  sha256='d7cdc76cf2a60b46a03cdc764369927e0dca7aa3f2e3b1844957e788948e1222'\n",
      "  metadata={}\n",
      "\n",
      "\n",
      "\n"
     ]
    },
    {
     "name": "stderr",
     "output_type": "stream",
     "text": [
      "  0%|                                                                 | 3/795797 [00:23<1419:57:28,  6.42s/it]"
     ]
    },
    {
     "name": "stdout",
     "output_type": "stream",
     "text": [
      "\n",
      "\n",
      "\n",
      "---HANDLE_FOUND_OBJECT CALLED---\n",
      "   local_path='/tmp/tmp_y92j7z7/glbs/000-073/3da0104169054829a2edc58f275ad978.glb'\n",
      "  file_identifier='https://sketchfab.com/3d-models/3da0104169054829a2edc58f275ad978'\n",
      "  sha256='8e0411a3b87434ea2b9c78cc8796528075339fb79f6289186e6ca4b2ba4608d2'\n",
      "  metadata={}\n",
      "\n",
      "\n",
      "\n"
     ]
    },
    {
     "name": "stderr",
     "output_type": "stream",
     "text": [
      "  0%|                                                                 | 4/795797 [00:25<1054:43:00,  4.77s/it]"
     ]
    },
    {
     "name": "stdout",
     "output_type": "stream",
     "text": [
      "\n",
      "\n",
      "\n",
      "---HANDLE_FOUND_OBJECT CALLED---\n",
      "   local_path='/tmp/tmpzu11vrf_/glbs/000-105/8a9bd5c8fc3940daa47e0180abe2f5da.glb'\n",
      "  file_identifier='https://sketchfab.com/3d-models/8a9bd5c8fc3940daa47e0180abe2f5da'\n",
      "  sha256='ff1382fc15f0e7337eda724d8ad3f5b3d9cbb3fda26c744767432ff8901b6649'\n",
      "  metadata={}\n",
      "\n",
      "\n",
      "\n"
     ]
    },
    {
     "name": "stderr",
     "output_type": "stream",
     "text": [
      "  0%|                                                                  | 5/795797 [00:27<818:49:13,  3.70s/it]"
     ]
    },
    {
     "name": "stdout",
     "output_type": "stream",
     "text": [
      "\n",
      "\n",
      "\n",
      "---HANDLE_FOUND_OBJECT CALLED---\n",
      "   local_path='/tmp/tmpjuyawgc6/glbs/000-079/53f6912a50ae46dd933bc6c99b5c81cc.glb'\n",
      "  file_identifier='https://sketchfab.com/3d-models/53f6912a50ae46dd933bc6c99b5c81cc'\n",
      "  sha256='b4d4143593468dadd921592d91d464d46ed78c13eabcd9c9d58e5d3ec514bfc3'\n",
      "  metadata={}\n",
      "\n",
      "\n",
      "\n"
     ]
    },
    {
     "name": "stderr",
     "output_type": "stream",
     "text": [
      "  0%|                                                                  | 6/795797 [00:29<689:30:08,  3.12s/it]"
     ]
    },
    {
     "name": "stdout",
     "output_type": "stream",
     "text": [
      "\n",
      "\n",
      "\n",
      "---HANDLE_FOUND_OBJECT CALLED---\n",
      "   local_path='/tmp/tmpt4_d368h/glbs/000-077/b9a471e4c2ec4056b2c81ef34ee74825.glb'\n",
      "  file_identifier='https://sketchfab.com/3d-models/b9a471e4c2ec4056b2c81ef34ee74825'\n",
      "  sha256='233f2c7cff68eb0eec2fd71cfd72086565c970adaf59180c6aa4107a6d684c02'\n",
      "  metadata={}\n",
      "\n",
      "\n",
      "\n"
     ]
    },
    {
     "name": "stderr",
     "output_type": "stream",
     "text": [
      "  0%|                                                                  | 7/795797 [00:31<644:25:04,  2.92s/it]"
     ]
    },
    {
     "name": "stdout",
     "output_type": "stream",
     "text": [
      "\n",
      "\n",
      "\n",
      "---HANDLE_FOUND_OBJECT CALLED---\n",
      "   local_path='/tmp/tmplfdos3ef/glbs/000-078/24473982824d456bb38d7bfe29a4cc8a.glb'\n",
      "  file_identifier='https://sketchfab.com/3d-models/24473982824d456bb38d7bfe29a4cc8a'\n",
      "  sha256='d7e2037f62c0e0df2657fc0d20c6863de10677910f99ee81587fc7917c1d9da0'\n",
      "  metadata={}\n",
      "\n",
      "\n",
      "\n"
     ]
    },
    {
     "name": "stderr",
     "output_type": "stream",
     "text": [
      "  0%|                                                                 | 8/795797 [00:49<1724:39:26,  7.80s/it]"
     ]
    },
    {
     "name": "stdout",
     "output_type": "stream",
     "text": [
      "\n",
      "\n",
      "\n",
      "---HANDLE_FOUND_OBJECT CALLED---\n",
      "   local_path='/tmp/tmpf3y1xs0v/glbs/000-151/711a076075f34c3db213cd8750df9ee7.glb'\n",
      "  file_identifier='https://sketchfab.com/3d-models/711a076075f34c3db213cd8750df9ee7'\n",
      "  sha256='adc7ae4a71d10c0fc3358dc954f6d16f0b6dfab1ebbe8c554732ffa088a94248'\n",
      "  metadata={}\n",
      "\n",
      "\n",
      "\n"
     ]
    },
    {
     "name": "stderr",
     "output_type": "stream",
     "text": [
      "  0%|                                                                 | 9/795797 [00:56<1611:35:21,  7.29s/it]"
     ]
    },
    {
     "name": "stdout",
     "output_type": "stream",
     "text": [
      "\n",
      "\n",
      "\n",
      "---HANDLE_FOUND_OBJECT CALLED---\n",
      "   local_path='/tmp/tmpyiqqdlp6/glbs/000-070/0eac7bfd4a8d4658b73baeb322ee8116.glb'\n",
      "  file_identifier='https://sketchfab.com/3d-models/0eac7bfd4a8d4658b73baeb322ee8116'\n",
      "  sha256='de0cd027eaa35092181fc775010ec6512e6eb7240bf55f8746d502ae2818e59a'\n",
      "  metadata={}\n",
      "\n",
      "\n",
      "\n"
     ]
    },
    {
     "name": "stderr",
     "output_type": "stream",
     "text": [
      "  0%|                                                                | 10/795797 [00:58<1306:12:19,  5.91s/it]"
     ]
    },
    {
     "name": "stdout",
     "output_type": "stream",
     "text": [
      "\n",
      "\n",
      "\n",
      "---HANDLE_FOUND_OBJECT CALLED---\n",
      "   local_path='/tmp/tmpn66d36uk/glbs/000-003/7551f5cd459b4fd7834bf6a07a0359c7.glb'\n",
      "  file_identifier='https://sketchfab.com/3d-models/7551f5cd459b4fd7834bf6a07a0359c7'\n",
      "  sha256='b8e4125fa0c3e604a5ec5e2b57d7bd20ef0e875d7cae826912afb3cf5e542102'\n",
      "  metadata={}\n",
      "\n",
      "\n",
      "\n"
     ]
    },
    {
     "name": "stderr",
     "output_type": "stream",
     "text": [
      "  0%|                                                                | 11/795797 [01:11<1737:27:49,  7.86s/it]"
     ]
    },
    {
     "name": "stdout",
     "output_type": "stream",
     "text": [
      "\n",
      "\n",
      "\n",
      "---HANDLE_FOUND_OBJECT CALLED---\n",
      "   local_path='/tmp/tmpn2v9xrie/glbs/000-074/b366cccfa6874844a80bd0b3efed737d.glb'\n",
      "  file_identifier='https://sketchfab.com/3d-models/b366cccfa6874844a80bd0b3efed737d'\n",
      "  sha256='07b0d512cfc98d6a198a70938faa079a4b671ac4b9f98ab641fd14c355fd0aca'\n",
      "  metadata={}\n",
      "\n",
      "\n",
      "\n"
     ]
    },
    {
     "name": "stderr",
     "output_type": "stream",
     "text": [
      "  0%|                                                                | 12/795797 [01:18<1712:56:08,  7.75s/it]"
     ]
    },
    {
     "name": "stdout",
     "output_type": "stream",
     "text": [
      "\n",
      "\n",
      "\n",
      "---HANDLE_FOUND_OBJECT CALLED---\n",
      "   local_path='/tmp/tmp35v7k_tx/glbs/000-143/98019120ce6e4c65aae222aac201fb18.glb'\n",
      "  file_identifier='https://sketchfab.com/3d-models/98019120ce6e4c65aae222aac201fb18'\n",
      "  sha256='6c4515702c24adc555b2553712f45188c6b61b734954fcf7c352acaa29f89fcf'\n",
      "  metadata={}\n",
      "\n",
      "\n",
      "\n"
     ]
    },
    {
     "name": "stderr",
     "output_type": "stream",
     "text": [
      "  0%|                                                                | 13/795797 [01:26<1702:07:03,  7.70s/it]"
     ]
    },
    {
     "name": "stdout",
     "output_type": "stream",
     "text": [
      "\n",
      "\n",
      "\n",
      "---HANDLE_FOUND_OBJECT CALLED---\n",
      "   local_path='/tmp/tmpi10ztn9b/glbs/000-102/c75564d995814a27b73d34e2bcb447b5.glb'\n",
      "  file_identifier='https://sketchfab.com/3d-models/c75564d995814a27b73d34e2bcb447b5'\n",
      "  sha256='abec87e67182a6d1fdc428ba1c38ac490e0bfb1f3b6db0c4e42ff1dafa798525'\n",
      "  metadata={}\n",
      "\n",
      "\n",
      "\n"
     ]
    },
    {
     "name": "stderr",
     "output_type": "stream",
     "text": [
      "  0%|                                                                | 14/795797 [01:43<2371:08:52, 10.73s/it]"
     ]
    },
    {
     "name": "stdout",
     "output_type": "stream",
     "text": [
      "\n",
      "\n",
      "\n",
      "---HANDLE_FOUND_OBJECT CALLED---\n",
      "   local_path='/tmp/tmp3hsozltb/glbs/000-004/35ddbf45ef4a4c61a067db293e1db49a.glb'\n",
      "  file_identifier='https://sketchfab.com/3d-models/35ddbf45ef4a4c61a067db293e1db49a'\n",
      "  sha256='6d21859d3618405072ad657284cd26eecf536f00fbc03af3ddcd89187376ed9c'\n",
      "  metadata={}\n",
      "\n",
      "\n",
      "\n"
     ]
    },
    {
     "name": "stderr",
     "output_type": "stream",
     "text": [
      "  0%|                                                                | 15/795797 [01:44<1715:30:22,  7.76s/it]"
     ]
    },
    {
     "name": "stdout",
     "output_type": "stream",
     "text": [
      "\n",
      "\n",
      "\n",
      "---HANDLE_FOUND_OBJECT CALLED---\n",
      "   local_path='/tmp/tmp7358xonm/glbs/000-119/caa7a9acddb8411db320ebf030d3efc9.glb'\n",
      "  file_identifier='https://sketchfab.com/3d-models/caa7a9acddb8411db320ebf030d3efc9'\n",
      "  sha256='ab0272642d06827da80a51f18dbfa14491f319a729f636df67aaa53349c3d178'\n",
      "  metadata={}\n",
      "\n",
      "\n",
      "\n"
     ]
    },
    {
     "name": "stderr",
     "output_type": "stream",
     "text": [
      "  0%|                                                                | 16/795797 [01:55<1885:32:37,  8.53s/it]"
     ]
    },
    {
     "name": "stdout",
     "output_type": "stream",
     "text": [
      "\n",
      "\n",
      "\n",
      "---HANDLE_FOUND_OBJECT CALLED---\n",
      "   local_path='/tmp/tmp_eb2tz_2/glbs/000-137/5d94779fec004b95bfa90bea20c43f55.glb'\n",
      "  file_identifier='https://sketchfab.com/3d-models/5d94779fec004b95bfa90bea20c43f55'\n",
      "  sha256='5d6d9ba338be8e05b78e5dadb9b219d55e59df64e4ebf0e6ac301cceeabd2025'\n",
      "  metadata={}\n",
      "\n",
      "\n",
      "\n"
     ]
    },
    {
     "name": "stderr",
     "output_type": "stream",
     "text": [
      "  0%|                                                                | 17/795797 [02:03<1848:44:33,  8.36s/it]"
     ]
    },
    {
     "name": "stdout",
     "output_type": "stream",
     "text": [
      "\n",
      "\n",
      "\n",
      "---HANDLE_FOUND_OBJECT CALLED---\n",
      "   local_path='/tmp/tmplsz3exa4/glbs/000-050/7ad48d86e2f74083b96e26009c0071ad.glb'\n",
      "  file_identifier='https://sketchfab.com/3d-models/7ad48d86e2f74083b96e26009c0071ad'\n",
      "  sha256='90787a0fb1825c7202c16f4d30c01bdcf9921b6d57c1cbcd78897fd1f305cf96'\n",
      "  metadata={}\n",
      "\n",
      "\n",
      "\n"
     ]
    },
    {
     "name": "stderr",
     "output_type": "stream",
     "text": [
      "  0%|                                                                | 18/795797 [02:11<1870:46:43,  8.46s/it]"
     ]
    },
    {
     "name": "stdout",
     "output_type": "stream",
     "text": [
      "\n",
      "\n",
      "\n",
      "---HANDLE_FOUND_OBJECT CALLED---\n",
      "   local_path='/tmp/tmp67rmlb7q/glbs/000-077/c7b832e9fde14906933dbf14b4c82dfc.glb'\n",
      "  file_identifier='https://sketchfab.com/3d-models/c7b832e9fde14906933dbf14b4c82dfc'\n",
      "  sha256='79f5712cb4d9306a7f568ede703ab1fcb4b7007d238f50668c2835d1e28d60e4'\n",
      "  metadata={}\n",
      "\n",
      "\n",
      "\n"
     ]
    },
    {
     "name": "stderr",
     "output_type": "stream",
     "text": [
      "  0%|                                                                | 19/795797 [02:17<1708:04:12,  7.73s/it]"
     ]
    },
    {
     "name": "stdout",
     "output_type": "stream",
     "text": [
      "\n",
      "\n",
      "\n",
      "---HANDLE_FOUND_OBJECT CALLED---\n",
      "   local_path='/tmp/tmphj7lgrlv/glbs/000-136/c4262269ff954d58afa28644c25ea89a.glb'\n",
      "  file_identifier='https://sketchfab.com/3d-models/c4262269ff954d58afa28644c25ea89a'\n",
      "  sha256='dd38075f8a4e601753acfc3b1362ae47900f98124c0c17ba00eebb99353f17dc'\n",
      "  metadata={}\n",
      "\n",
      "\n",
      "\n"
     ]
    },
    {
     "name": "stderr",
     "output_type": "stream",
     "text": [
      "  0%|                                                                | 20/795797 [02:28<1898:21:27,  8.59s/it]"
     ]
    },
    {
     "name": "stdout",
     "output_type": "stream",
     "text": [
      "\n",
      "\n",
      "\n",
      "---HANDLE_FOUND_OBJECT CALLED---\n",
      "   local_path='/tmp/tmpvse6gjoh/glbs/000-124/4660e48303c9445db41da481af2cd403.glb'\n",
      "  file_identifier='https://sketchfab.com/3d-models/4660e48303c9445db41da481af2cd403'\n",
      "  sha256='b2d7d0ade60c6bffb34081be3d7af0d918f24b7d5879f8dba795893b5c37ed89'\n",
      "  metadata={}\n",
      "\n",
      "\n",
      "\n"
     ]
    },
    {
     "name": "stderr",
     "output_type": "stream",
     "text": [
      "  0%|                                                                | 21/795797 [02:44<2361:52:44, 10.68s/it]"
     ]
    },
    {
     "name": "stdout",
     "output_type": "stream",
     "text": [
      "\n",
      "\n",
      "\n",
      "---HANDLE_FOUND_OBJECT CALLED---\n",
      "   local_path='/tmp/tmph_t8gh6e/glbs/000-138/bf3a096982ab4febbd93a48cd1961129.glb'\n",
      "  file_identifier='https://sketchfab.com/3d-models/bf3a096982ab4febbd93a48cd1961129'\n",
      "  sha256='8ba0f74d656a3a99140b9dab82e1e5835988f5fca31231694b80fff7e87c0f02'\n",
      "  metadata={}\n",
      "\n",
      "\n",
      "\n"
     ]
    },
    {
     "name": "stderr",
     "output_type": "stream",
     "text": [
      "  0%|                                                                | 22/795797 [02:47<1903:59:13,  8.61s/it]"
     ]
    },
    {
     "name": "stdout",
     "output_type": "stream",
     "text": [
      "\n",
      "\n",
      "\n",
      "---HANDLE_FOUND_OBJECT CALLED---\n",
      "   local_path='/tmp/tmpc8_z5ik6/glbs/000-133/14e8192666524c74b662d10d074df199.glb'\n",
      "  file_identifier='https://sketchfab.com/3d-models/14e8192666524c74b662d10d074df199'\n",
      "  sha256='f6a784fcbe63421f1f16358c02c4e9262c4d0754ed34e42869bcae5d1bbdbf45'\n",
      "  metadata={}\n",
      "\n",
      "\n",
      "\n"
     ]
    },
    {
     "name": "stderr",
     "output_type": "stream",
     "text": [
      "  0%|                                                                | 23/795797 [02:49<1472:59:18,  6.66s/it]"
     ]
    },
    {
     "name": "stdout",
     "output_type": "stream",
     "text": [
      "\n",
      "\n",
      "\n",
      "---HANDLE_FOUND_OBJECT CALLED---\n",
      "   local_path='/tmp/tmpo6w1nuhc/glbs/000-120/ac6fe959885e4fed92ead31eff5487c3.glb'\n",
      "  file_identifier='https://sketchfab.com/3d-models/ac6fe959885e4fed92ead31eff5487c3'\n",
      "  sha256='70bd5b2da3f3f3fa3c0a0bc1fec0883d36fc6e4a7a48de98abae44a7642cfa39'\n",
      "  metadata={}\n",
      "\n",
      "\n",
      "\n"
     ]
    },
    {
     "name": "stderr",
     "output_type": "stream",
     "text": [
      "  0%|                                                                | 24/795797 [02:50<1040:08:27,  4.71s/it]"
     ]
    },
    {
     "name": "stdout",
     "output_type": "stream",
     "text": [
      "\n",
      "\n",
      "\n",
      "---HANDLE_FOUND_OBJECT CALLED---\n",
      "   local_path='/tmp/tmps9tfjys2/glbs/000-095/099fd17f6cf94763aba390247480fbef.glb'\n",
      "  file_identifier='https://sketchfab.com/3d-models/099fd17f6cf94763aba390247480fbef'\n",
      "  sha256='b3b01ff1d87288057bb462ef3b04c7609bae4bc3bd56bbf92e65cdf916a51693'\n",
      "  metadata={}\n",
      "\n",
      "\n",
      "\n"
     ]
    },
    {
     "name": "stderr",
     "output_type": "stream",
     "text": [
      "  0%|                                                                | 25/795797 [03:03<1627:49:44,  7.36s/it]"
     ]
    },
    {
     "name": "stdout",
     "output_type": "stream",
     "text": [
      "\n",
      "\n",
      "\n",
      "---HANDLE_FOUND_OBJECT CALLED---\n",
      "   local_path='/tmp/tmplpqlfcxg/glbs/000-061/d63ec738b71d4435898dcdef55a2f483.glb'\n",
      "  file_identifier='https://sketchfab.com/3d-models/d63ec738b71d4435898dcdef55a2f483'\n",
      "  sha256='36f0a796afc1f1d5fcad5fe1cea886f9c0172efa6160a0c9fbb1444ed00e3182'\n",
      "  metadata={}\n",
      "\n",
      "\n",
      "\n"
     ]
    },
    {
     "name": "stderr",
     "output_type": "stream",
     "text": [
      "  0%|                                                                | 26/795797 [03:09<1557:06:52,  7.04s/it]"
     ]
    },
    {
     "name": "stdout",
     "output_type": "stream",
     "text": [
      "\n",
      "\n",
      "\n",
      "---HANDLE_FOUND_OBJECT CALLED---\n",
      "   local_path='/tmp/tmp9cstat1l/glbs/000-099/27ee6b3375e5405fb4759cf32cdf04c7.glb'\n",
      "  file_identifier='https://sketchfab.com/3d-models/27ee6b3375e5405fb4759cf32cdf04c7'\n",
      "  sha256='83a1d0063703df7756e7e9f8f49edc28e8f29ddc4c949c9f62bbfc9d0baf898c'\n",
      "  metadata={}\n",
      "\n",
      "\n",
      "\n"
     ]
    },
    {
     "name": "stderr",
     "output_type": "stream",
     "text": [
      "  0%|                                                                | 27/795797 [03:14<1415:36:08,  6.40s/it]"
     ]
    },
    {
     "name": "stdout",
     "output_type": "stream",
     "text": [
      "\n",
      "\n",
      "\n",
      "---HANDLE_FOUND_OBJECT CALLED---\n",
      "   local_path='/tmp/tmp0cw31_xo/glbs/000-089/bf049e158d774648a0df2f88e1e04ac2.glb'\n",
      "  file_identifier='https://sketchfab.com/3d-models/bf049e158d774648a0df2f88e1e04ac2'\n",
      "  sha256='1704fc3e92e0482b695ea76609415a1b16d845549acc06cae5ec9a02ac8d5762'\n",
      "  metadata={}\n",
      "\n",
      "\n",
      "\n"
     ]
    },
    {
     "name": "stderr",
     "output_type": "stream",
     "text": [
      "  0%|                                                                | 28/795797 [03:17<1168:32:56,  5.29s/it]"
     ]
    },
    {
     "name": "stdout",
     "output_type": "stream",
     "text": [
      "\n",
      "\n",
      "\n",
      "---HANDLE_FOUND_OBJECT CALLED---\n",
      "   local_path='/tmp/tmpdnnf4lj0/glbs/000-012/8f57b145490e4e8480aee0b0d13661e8.glb'\n",
      "  file_identifier='https://sketchfab.com/3d-models/8f57b145490e4e8480aee0b0d13661e8'\n",
      "  sha256='774791d5f182d611257bfedb4a94c5e074cdab7e815a3b208c01b985deac22d6'\n",
      "  metadata={}\n",
      "\n",
      "\n",
      "\n"
     ]
    },
    {
     "name": "stderr",
     "output_type": "stream",
     "text": [
      "  0%|                                                                | 29/795797 [03:23<1210:47:07,  5.48s/it]"
     ]
    },
    {
     "name": "stdout",
     "output_type": "stream",
     "text": [
      "\n",
      "\n",
      "\n",
      "---HANDLE_FOUND_OBJECT CALLED---\n",
      "   local_path='/tmp/tmpn8spvt3t/glbs/000-071/9a23f06786b4476990e0cf56cc8dba6d.glb'\n",
      "  file_identifier='https://sketchfab.com/3d-models/9a23f06786b4476990e0cf56cc8dba6d'\n",
      "  sha256='ca4e9bec2dd97f5ef9e08712f781aa918dc9e239203dcc5521a07f3cc3530f14'\n",
      "  metadata={}\n",
      "\n",
      "\n",
      "\n"
     ]
    },
    {
     "name": "stderr",
     "output_type": "stream",
     "text": [
      "  0%|                                                                | 30/795797 [03:27<1093:07:31,  4.95s/it]"
     ]
    },
    {
     "name": "stdout",
     "output_type": "stream",
     "text": [
      "\n",
      "\n",
      "\n",
      "---HANDLE_FOUND_OBJECT CALLED---\n",
      "   local_path='/tmp/tmp61zsa743/glbs/000-119/ebc44bfd4d964189a5fd2ecb3e9bd433.glb'\n",
      "  file_identifier='https://sketchfab.com/3d-models/ebc44bfd4d964189a5fd2ecb3e9bd433'\n",
      "  sha256='e3a88234842a42ff88417ac6e29cf875246439a6abf026c724507cf2a1ec14af'\n",
      "  metadata={}\n",
      "\n",
      "\n",
      "\n"
     ]
    },
    {
     "name": "stderr",
     "output_type": "stream",
     "text": [
      "  0%|                                                                | 31/795797 [03:30<1017:52:58,  4.60s/it]"
     ]
    },
    {
     "name": "stdout",
     "output_type": "stream",
     "text": [
      "\n",
      "\n",
      "\n",
      "---HANDLE_FOUND_OBJECT CALLED---\n",
      "   local_path='/tmp/tmp1g9vxa20/glbs/000-102/84424f446e7f4c3b8bf1c3204b581f28.glb'\n",
      "  file_identifier='https://sketchfab.com/3d-models/84424f446e7f4c3b8bf1c3204b581f28'\n",
      "  sha256='c728025485b5c19e4f824e375563c94c47e83f2ca1626c62d8ef2c5a54cd60fe'\n",
      "  metadata={}\n",
      "\n",
      "\n",
      "\n"
     ]
    },
    {
     "name": "stderr",
     "output_type": "stream",
     "text": [
      "  0%|                                                                 | 32/795797 [03:31<745:12:26,  3.37s/it]"
     ]
    },
    {
     "name": "stdout",
     "output_type": "stream",
     "text": [
      "\n",
      "\n",
      "\n",
      "---HANDLE_FOUND_OBJECT CALLED---\n",
      "   local_path='/tmp/tmpb5bxxrs_/glbs/000-011/219435a1898e4bb6b515c45dd9eda6af.glb'\n",
      "  file_identifier='https://sketchfab.com/3d-models/219435a1898e4bb6b515c45dd9eda6af'\n",
      "  sha256='9a77f2729960a0cce2944c9191b78bf6dd4de44c2228fe083801b225308089a1'\n",
      "  metadata={}\n",
      "\n",
      "\n",
      "\n"
     ]
    },
    {
     "name": "stderr",
     "output_type": "stream",
     "text": [
      "  0%|                                                                | 33/795797 [03:54<2019:51:02,  9.14s/it]"
     ]
    },
    {
     "name": "stdout",
     "output_type": "stream",
     "text": [
      "\n",
      "\n",
      "\n",
      "---HANDLE_FOUND_OBJECT CALLED---\n",
      "   local_path='/tmp/tmpy4_9qv8n/glbs/000-085/c0b33a7cbd184b82943db196052a0f52.glb'\n",
      "  file_identifier='https://sketchfab.com/3d-models/c0b33a7cbd184b82943db196052a0f52'\n",
      "  sha256='9e392421692539c390ecf202864500f341e21d4d7629fab1e86011b73b9ed9f5'\n",
      "  metadata={}\n",
      "\n",
      "\n",
      "\n"
     ]
    },
    {
     "name": "stderr",
     "output_type": "stream",
     "text": [
      "  0%|                                                                | 34/795797 [03:57<1626:59:33,  7.36s/it]"
     ]
    },
    {
     "name": "stdout",
     "output_type": "stream",
     "text": [
      "\n",
      "\n",
      "\n",
      "---HANDLE_FOUND_OBJECT CALLED---\n",
      "   local_path='/tmp/tmpepdew69y/glbs/000-011/a6deaeb7152d405aa0a1ad8b0627d19c.glb'\n",
      "  file_identifier='https://sketchfab.com/3d-models/a6deaeb7152d405aa0a1ad8b0627d19c'\n",
      "  sha256='6b0ebf3050d37a2896c22e1ed368148c7345833b7c207f64506f51f60f6e6957'\n",
      "  metadata={}\n",
      "\n",
      "\n",
      "\n"
     ]
    },
    {
     "name": "stderr",
     "output_type": "stream",
     "text": [
      "  0%|                                                                | 35/795797 [04:00<1328:44:43,  6.01s/it]"
     ]
    },
    {
     "name": "stdout",
     "output_type": "stream",
     "text": [
      "\n",
      "\n",
      "\n",
      "---HANDLE_FOUND_OBJECT CALLED---\n",
      "   local_path='/tmp/tmpt8fp3i52/glbs/000-133/a88164ecbbb34c59bda9df252ed4b74b.glb'\n",
      "  file_identifier='https://sketchfab.com/3d-models/a88164ecbbb34c59bda9df252ed4b74b'\n",
      "  sha256='9265921060000516d5a080ffc5f9a89b084c4755a261916600184c41b9d9f177'\n",
      "  metadata={}\n",
      "\n",
      "\n",
      "\n"
     ]
    },
    {
     "name": "stderr",
     "output_type": "stream",
     "text": [
      "  0%|                                                                | 36/795797 [04:03<1164:48:37,  5.27s/it]"
     ]
    },
    {
     "name": "stdout",
     "output_type": "stream",
     "text": [
      "\n",
      "\n",
      "\n",
      "---HANDLE_FOUND_OBJECT CALLED---\n",
      "   local_path='/tmp/tmp0wschk9t/glbs/000-083/b37bee32032d468c9c1cbd041e8142c1.glb'\n",
      "  file_identifier='https://sketchfab.com/3d-models/b37bee32032d468c9c1cbd041e8142c1'\n",
      "  sha256='b285cd0f36f5f3f4da46fa3ad08b388274f0d1d180f17e72e6189a2496677d19'\n",
      "  metadata={}\n",
      "\n",
      "\n",
      "\n"
     ]
    },
    {
     "name": "stderr",
     "output_type": "stream",
     "text": [
      "  0%|                                                                 | 37/795797 [04:05<960:09:34,  4.34s/it]"
     ]
    },
    {
     "name": "stdout",
     "output_type": "stream",
     "text": [
      "\n",
      "\n",
      "\n",
      "---HANDLE_FOUND_OBJECT CALLED---\n",
      "   local_path='/tmp/tmpgw8d4sv2/glbs/000-119/0d3026ecafbe47dba07c8cdb4064d0a5.glb'\n",
      "  file_identifier='https://sketchfab.com/3d-models/0d3026ecafbe47dba07c8cdb4064d0a5'\n",
      "  sha256='19d8f9cd8bb1b60b22eac6e93a0e3fc2d27eb0380ed5267e34f51ed70be98bfe'\n",
      "  metadata={}\n",
      "\n",
      "\n",
      "\n"
     ]
    },
    {
     "name": "stderr",
     "output_type": "stream",
     "text": [
      "  0%|                                                                 | 38/795797 [04:10<994:28:55,  4.50s/it]"
     ]
    },
    {
     "name": "stdout",
     "output_type": "stream",
     "text": [
      "\n",
      "\n",
      "\n",
      "---HANDLE_FOUND_OBJECT CALLED---\n",
      "   local_path='/tmp/tmp8rcq52qs/glbs/000-119/fe1bb89cd7b2459faa9860f6875ca204.glb'\n",
      "  file_identifier='https://sketchfab.com/3d-models/fe1bb89cd7b2459faa9860f6875ca204'\n",
      "  sha256='5e99a8043c6b3f66106a75cfdb153259f91129964f2401c85f75f269fa1fc2ab'\n",
      "  metadata={}\n",
      "\n",
      "\n",
      "\n"
     ]
    },
    {
     "name": "stderr",
     "output_type": "stream",
     "text": [
      "  0%|                                                                 | 39/795797 [04:13<897:13:33,  4.06s/it]"
     ]
    },
    {
     "name": "stdout",
     "output_type": "stream",
     "text": [
      "\n",
      "\n",
      "\n",
      "---HANDLE_FOUND_OBJECT CALLED---\n",
      "   local_path='/tmp/tmpge_obe8d/glbs/000-042/b227628a58f9460f91aedb8a8067c61a.glb'\n",
      "  file_identifier='https://sketchfab.com/3d-models/b227628a58f9460f91aedb8a8067c61a'\n",
      "  sha256='57b9f7ed6325aa8e3e071b82f0fc13947cb93854dc9b5b02ddf29503a9ff047f'\n",
      "  metadata={}\n",
      "\n",
      "\n",
      "\n"
     ]
    },
    {
     "name": "stderr",
     "output_type": "stream",
     "text": [
      "  0%|                                                                 | 40/795797 [04:17<851:10:35,  3.85s/it]"
     ]
    },
    {
     "name": "stdout",
     "output_type": "stream",
     "text": [
      "\n",
      "\n",
      "\n",
      "---HANDLE_FOUND_OBJECT CALLED---\n",
      "   local_path='/tmp/tmp7cmuz25q/glbs/000-125/61098af02ade40bda9852f480b24503d.glb'\n",
      "  file_identifier='https://sketchfab.com/3d-models/61098af02ade40bda9852f480b24503d'\n",
      "  sha256='a9fe03e598650ed0ec8e0ca86f07bd0e67cc113169cc2babd13bd4917117d751'\n",
      "  metadata={}\n",
      "\n",
      "\n",
      "\n"
     ]
    },
    {
     "name": "stderr",
     "output_type": "stream",
     "text": [
      "  0%|                                                                 | 41/795797 [04:20<818:50:51,  3.70s/it]"
     ]
    },
    {
     "name": "stdout",
     "output_type": "stream",
     "text": [
      "\n",
      "\n",
      "\n",
      "---HANDLE_FOUND_OBJECT CALLED---\n",
      "   local_path='/tmp/tmppulc7ivy/glbs/000-040/2ef05f6ca4a94b21a25241a92cbc3258.glb'\n",
      "  file_identifier='https://sketchfab.com/3d-models/2ef05f6ca4a94b21a25241a92cbc3258'\n",
      "  sha256='fc31137feedf535c9214550e549ad9b2fb957117ac29ad5bc220e9ab43532c4e'\n",
      "  metadata={}\n",
      "\n",
      "\n",
      "\n"
     ]
    },
    {
     "name": "stderr",
     "output_type": "stream",
     "text": [
      "  0%|                                                                 | 42/795797 [04:23<787:29:15,  3.56s/it]"
     ]
    },
    {
     "name": "stdout",
     "output_type": "stream",
     "text": [
      "\n",
      "\n",
      "\n",
      "---HANDLE_FOUND_OBJECT CALLED---\n",
      "   local_path='/tmp/tmpkftpd1h5/glbs/000-084/60bf78308b8a41f4a2053ac3145103ca.glb'\n",
      "  file_identifier='https://sketchfab.com/3d-models/60bf78308b8a41f4a2053ac3145103ca'\n",
      "  sha256='afff6184f3075e8c7e911bff75a4eea43518e35a16d5efa23edbae1f1bba4ec2'\n",
      "  metadata={}\n",
      "\n",
      "\n",
      "\n"
     ]
    },
    {
     "name": "stderr",
     "output_type": "stream",
     "text": [
      "  0%|                                                                 | 43/795797 [04:25<640:02:26,  2.90s/it]"
     ]
    },
    {
     "name": "stdout",
     "output_type": "stream",
     "text": [
      "\n",
      "\n",
      "\n",
      "---HANDLE_FOUND_OBJECT CALLED---\n",
      "   local_path='/tmp/tmpovq4d_3g/glbs/000-031/9b4ba4436cf9460a86eae84eda02672e.glb'\n",
      "  file_identifier='https://sketchfab.com/3d-models/9b4ba4436cf9460a86eae84eda02672e'\n",
      "  sha256='c55b7d7a0bf053e7617c70888e991c3317e1c419650bd4a301b301b4bedf4c53'\n",
      "  metadata={}\n",
      "\n",
      "\n",
      "\n"
     ]
    },
    {
     "name": "stderr",
     "output_type": "stream",
     "text": [
      "  0%|                                                                 | 44/795797 [04:29<767:34:41,  3.47s/it]"
     ]
    },
    {
     "name": "stdout",
     "output_type": "stream",
     "text": [
      "\n",
      "\n",
      "\n",
      "---HANDLE_FOUND_OBJECT CALLED---\n",
      "   local_path='/tmp/tmpkbm0i8iz/glbs/000-082/c3a8dc18e2834dbeb0c85753d9b590b8.glb'\n",
      "  file_identifier='https://sketchfab.com/3d-models/c3a8dc18e2834dbeb0c85753d9b590b8'\n",
      "  sha256='d91748afcc88133a8f9815ff35326b8efccb633920df38b75cbf36e9b03f9a76'\n",
      "  metadata={}\n",
      "\n",
      "\n",
      "\n"
     ]
    },
    {
     "name": "stderr",
     "output_type": "stream",
     "text": [
      "  0%|                                                                 | 45/795797 [04:31<636:58:09,  2.88s/it]"
     ]
    },
    {
     "name": "stdout",
     "output_type": "stream",
     "text": [
      "\n",
      "\n",
      "\n",
      "---HANDLE_FOUND_OBJECT CALLED---\n",
      "   local_path='/tmp/tmpbwqij2hp/glbs/000-086/4fb62d9b251449c580bb294b7f77dad4.glb'\n",
      "  file_identifier='https://sketchfab.com/3d-models/4fb62d9b251449c580bb294b7f77dad4'\n",
      "  sha256='56e18b47e0baca8cf82469dd395546bc75228bfafe055d6cb0d3cfaddd767e64'\n",
      "  metadata={}\n",
      "\n",
      "\n",
      "\n"
     ]
    },
    {
     "name": "stderr",
     "output_type": "stream",
     "text": [
      "  0%|                                                                 | 46/795797 [04:31<456:16:35,  2.06s/it]"
     ]
    }
   ],
   "source": [
    "# remove previously downloaded objects\n",
    "# shutil.rmtree(\"objaverse\", ignore_errors=True)\n",
    "\n",
    "# redownload\n",
    "while True:\n",
    "    try:\n",
    "        oxl.download_objects(\n",
    "            objects=annotations,\n",
    "            handle_found_object=handle_found_object,\n",
    "            handle_modified_object=handle_modified_object,\n",
    "            handle_missing_object=handle_missing_object,\n",
    "            handle_new_object=handle_new_object,\n",
    "        )\n",
    "        import time\n",
    "        time.sleep(100)\n",
    "    except:\n",
    "        import time\n",
    "        time.sleep(100)"
   ]
  },
  {
   "cell_type": "code",
   "execution_count": null,
   "id": "6c690a2d-e596-4de8-992e-d176a5b51e04",
   "metadata": {},
   "outputs": [],
   "source": [
    "oxl.download_objects(\n",
    "    objects=alignment_annotations,\n",
    "    handle_found_object=handle_found_object,\n",
    "    handle_modified_object=handle_modified_object,\n",
    "    handle_missing_object=handle_missing_object,\n",
    "    handle_new_object=handle_new_object,  # <---------------\n",
    ")"
   ]
  },
  {
   "cell_type": "code",
   "execution_count": null,
   "id": "555271c4-b5b1-478e-bef5-e3f0f441997d",
   "metadata": {},
   "outputs": [],
   "source": []
  }
 ],
 "metadata": {
  "kernelspec": {
   "display_name": "Python 3 (ipykernel)",
   "language": "python",
   "name": "python3"
  },
  "language_info": {
   "codemirror_mode": {
    "name": "ipython",
    "version": 3
   },
   "file_extension": ".py",
   "mimetype": "text/x-python",
   "name": "python",
   "nbconvert_exporter": "python",
   "pygments_lexer": "ipython3",
   "version": "3.11.9"
  }
 },
 "nbformat": 4,
 "nbformat_minor": 5
}
