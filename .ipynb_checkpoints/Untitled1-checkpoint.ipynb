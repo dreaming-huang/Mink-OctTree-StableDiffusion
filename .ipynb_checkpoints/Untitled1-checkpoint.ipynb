{
 "cells": [
  {
   "cell_type": "code",
   "execution_count": 22,
   "id": "9288a91f-b8a3-45e3-bea0-4adb9d1e9491",
   "metadata": {},
   "outputs": [
    {
     "data": {
      "text/plain": [
       "139264"
      ]
     },
     "execution_count": 22,
     "metadata": {},
     "output_type": "execute_result"
    }
   ],
   "source": [
    "# dim0 = coords[:, 0]\n",
    "# x = coords[:, 1].long()\n",
    "# y = coords[:, 2].long()\n",
    "# z = coords[:, 3].long()\n",
    "x=32\n",
    "y=16\n",
    "z=0\n",
    "morton_code=0\n",
    "for i in range(31, -1, -1):\n",
    "    morton_code |= ((x >> i) & 1) << (3 * i + 2)\n",
    "    morton_code |= ((y >> i) & 1) << (3 * i + 1)\n",
    "    morton_code |= ((z >> i) & 1) << (3 * i)\n",
    "morton_code\n",
    "# morton_code\n",
    "# sort_key = 1 * 1e10 + morton_code\n",
    "# indices = torch.argsort(sort_key)"
   ]
  },
  {
   "cell_type": "code",
   "execution_count": 16,
   "id": "9d41399c-1b63-484b-8950-0190c3466d63",
   "metadata": {},
   "outputs": [
    {
     "data": {
      "text/plain": [
       "10000000000.0"
      ]
     },
     "execution_count": 16,
     "metadata": {},
     "output_type": "execute_result"
    }
   ],
   "source": [
    "1e10"
   ]
  },
  {
   "cell_type": "code",
   "execution_count": 31,
   "id": "d6d3b924-64fb-454a-a695-37db24583d65",
   "metadata": {},
   "outputs": [
    {
     "data": {
      "text/plain": [
       "[0, 1, 2, 75, 76, 77, 150, 151, 152, 225, 226, 227]"
      ]
     },
     "execution_count": 31,
     "metadata": {},
     "output_type": "execute_result"
    }
   ],
   "source": [
    "len_value = 100\n",
    "window_value = 25\n",
    "interval_value = 3\n",
    "\n",
    "start=[]\n",
    "\n",
    "\n",
    "for i in range(interval_value):\n",
    "    for j in range(len_value//window_value):\n",
    "        start.append(j*window_value*interval_value+i) if j*window_value*interval_value+i<len_value\n",
    "start.sort()\n",
    "start\n",
    "    \n"
   ]
  },
  {
   "cell_type": "code",
   "execution_count": null,
   "id": "5a7878fd-6cd2-40cf-b175-290a5e27cc92",
   "metadata": {},
   "outputs": [],
   "source": []
  }
 ],
 "metadata": {
  "kernelspec": {
   "display_name": "Python 3 (ipykernel)",
   "language": "python",
   "name": "python3"
  },
  "language_info": {
   "codemirror_mode": {
    "name": "ipython",
    "version": 3
   },
   "file_extension": ".py",
   "mimetype": "text/x-python",
   "name": "python",
   "nbconvert_exporter": "python",
   "pygments_lexer": "ipython3",
   "version": "3.11.9"
  }
 },
 "nbformat": 4,
 "nbformat_minor": 5
}
